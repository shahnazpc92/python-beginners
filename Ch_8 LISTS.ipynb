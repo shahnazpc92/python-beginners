{
 "cells": [
  {
   "cell_type": "code",
   "execution_count": 1,
   "metadata": {},
   "outputs": [
    {
     "name": "stdout",
     "output_type": "stream",
     "text": [
      "It will print the whole list of friends:- ['karen', 'mike', 'nancy']\n",
      "\n",
      "It will print the index value of friends:- nancy\n",
      "\n",
      "In this list the index value of 2 is 'nancy' which is replaced by 'merry' :- merry\n",
      "\n",
      "It will print the list from 2th index to the end:- ['nancy', 'tomy', 'dom']\n",
      "\n",
      "It will print the list from 2th index to the end minus one:- ['nancy', 'tomy']\n",
      "\n",
      "It will print the -1 index which is the index value from the end:- dom\n",
      "\n"
     ]
    }
   ],
   "source": [
    "# LISTS\n",
    "\n",
    "friends = [\"karen\", \"mike\", \"nancy\"]\n",
    "print(\"It will print the whole list of friends:-\",friends)\n",
    "print(\"\")\n",
    "\n",
    "friends2 = [\"karen\", \"mike\", \"nancy\", \"tomy\", \"dom\"]\n",
    "print(\"It will print the index value of friends:-\",friends[2])\n",
    "print(\"\")\n",
    "\n",
    "friends2 = [\"karen\", \"mike\", \"nancy\", \"tomy\", \"dom\"]\n",
    "friends2[2] = \"merry\"\n",
    "print(\"In this list the index value of 2 is 'nancy' which is replaced by 'merry' :-\",friends2[2])\n",
    "print(\"\")\n",
    "\n",
    "friends2 = [\"karen\", \"mike\", \"nancy\", \"tomy\", \"dom\"]\n",
    "print(\"It will print the list from 2th index to the end:-\",friends2[2:])\n",
    "print(\"\")\n",
    "\n",
    "friends2 = [\"karen\", \"mike\", \"nancy\", \"tomy\", \"dom\"]\n",
    "print(\"It will print the list from 2th index to the end minus one:-\",friends2[2:-1])\n",
    "print(\"\")\n",
    "\n",
    "friends2 = [\"karen\", \"mike\", \"nancy\", \"tomy\", \"dom\"]\n",
    "print(\"It will print the -1 index which is the index value from the end:-\",friends2[-1])\n",
    "print(\"\")\n"
   ]
  },
  {
   "cell_type": "code",
   "execution_count": null,
   "metadata": {},
   "outputs": [],
   "source": []
  }
 ],
 "metadata": {
  "kernelspec": {
   "display_name": "Python 3",
   "language": "python",
   "name": "python3"
  },
  "language_info": {
   "codemirror_mode": {
    "name": "ipython",
    "version": 3
   },
   "file_extension": ".py",
   "mimetype": "text/x-python",
   "name": "python",
   "nbconvert_exporter": "python",
   "pygments_lexer": "ipython3",
   "version": "3.6.5"
  }
 },
 "nbformat": 4,
 "nbformat_minor": 2
}
