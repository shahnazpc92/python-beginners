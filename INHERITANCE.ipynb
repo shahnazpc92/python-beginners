{
 "cells": [
  {
   "cell_type": "code",
   "execution_count": 2,
   "metadata": {},
   "outputs": [],
   "source": [
    "class Student:\n",
    "    total = 0\n",
    "    def __init__(self,n,a):\n",
    "        self.__name = n\n",
    "        self.age = a\n",
    "        self.__class__.total += 1\n",
    "        self.roll = self.__class__.total\n",
    "        \n",
    "    def get_age(self):\n",
    "        return self.age\n",
    "    \n",
    "    def get_name(self):\n",
    "        return self.__name\n",
    "    \n",
    "    def inc_age(self,n):\n",
    "        self.age += n\n",
    "        \n",
    "class Cs_Student(Student):\n",
    "    def __init__(self,n,a,s):\n",
    "        Student.__init__(self,n,a)\n",
    "        self.section = s\n",
    "    def get_age(self):\n",
    "        print(\"Age is\",self.age)"
   ]
  },
  {
   "cell_type": "code",
   "execution_count": 3,
   "metadata": {},
   "outputs": [
    {
     "name": "stdout",
     "output_type": "stream",
     "text": [
      "Ajo's age is 23 1\n",
      "RJ's age is 22 2\n",
      "None\n",
      "Ajo's age is 23\n",
      "RJ's age is 24\n",
      "Age is 25\n"
     ]
    }
   ],
   "source": [
    "stu1 = Student(\"Ajo\",23)\n",
    "stu2 = Student(\"RJ\",22)\n",
    "\n",
    "print(stu1.get_name()+\"'s age is\",stu1.get_age(),stu1.roll)\n",
    "print(stu2.get_name()+\"'s age is\",stu2.get_age(),stu2.roll)\n",
    "\n",
    "print(stu2.inc_age(2))    # Only stu2 age will be increased by 2\n",
    "print(stu1.get_name()+\"'s age is\",stu1.get_age())\n",
    "print(stu2.get_name()+\"'s age is\",stu2.get_age())\n",
    "\n",
    "cstu1 = Cs_Student('sneha',25,'A')\n",
    "cstu1.get_age()"
   ]
  },
  {
   "cell_type": "code",
   "execution_count": 22,
   "metadata": {},
   "outputs": [],
   "source": [
    "class Student:\n",
    "    '''Student class'''\n",
    "    total = 0\n",
    "    def __init__(self,n,a):\n",
    "        self.__name = n\n",
    "        self.age = a\n",
    "        self.__class__.total += 1\n",
    "        self.roll = self.__class__.total\n",
    "        \n",
    "    def get_age(self):\n",
    "        return self.age\n",
    "    \n",
    "    def get_name(self):\n",
    "        return self.__name\n",
    "    \n",
    "    def inc_age(self,n):\n",
    "        self.age += n\n",
    "        \n",
    "    def __repr__(self):\n",
    "        return self.__name+ str(self.age)   # we get the o/p as we pass the strings\n",
    "    \n",
    "    def __gt__(self,other):\n",
    "        return self.age > other.age       # We get the greater than value\n",
    "        \n",
    "class Cs_Student(Student):\n",
    "    def __init__(self,n,a,s):\n",
    "        Student.__init__(self,n,a)\n",
    "        self.section = s\n",
    "    def get_age(self):\n",
    "        print(\"Age is\",self.age)"
   ]
  },
  {
   "cell_type": "code",
   "execution_count": 23,
   "metadata": {},
   "outputs": [
    {
     "name": "stdout",
     "output_type": "stream",
     "text": [
      "Ajo's age is 23 1\n",
      "RJ's age is 22 2\n",
      "None\n",
      "Ajo's age is 23\n",
      "RJ's age is 24\n",
      "Age is 25\n",
      "fab 23\n",
      "True\n"
     ]
    }
   ],
   "source": [
    "stu1 = Student(\"Ajo\",23)\n",
    "stu2 = Student(\"RJ\",22)\n",
    "\n",
    "print(stu1.get_name()+\"'s age is\",stu1.get_age(),stu1.roll)\n",
    "print(stu2.get_name()+\"'s age is\",stu2.get_age(),stu2.roll)\n",
    "\n",
    "print(stu2.inc_age(2))    # Only stu2 age will be increased by 2\n",
    "print(stu1.get_name()+\"'s age is\",stu1.get_age())\n",
    "print(stu2.get_name()+\"'s age is\",stu2.get_age())\n",
    "\n",
    "cstu1 = Cs_Student('sneha',25,'A')\n",
    "cstu1.get_age()\n",
    "\n",
    "print('fab',23)\n",
    "\n",
    "print('stu1' < 'stu2')"
   ]
  },
  {
   "cell_type": "code",
   "execution_count": 29,
   "metadata": {},
   "outputs": [],
   "source": [
    "class Student:\n",
    "    '''Student class'''\n",
    "    total = 0\n",
    "    def __init__(self,n,a):\n",
    "        self.__name = n\n",
    "        self.age = a\n",
    "        self.__class__.total += 1\n",
    "        self.roll = self.__class__.total\n",
    "        \n",
    "    def get_age(self):\n",
    "        return self.age\n",
    "    \n",
    "    def get_name(self):\n",
    "        return self.__name\n",
    "    \n",
    "    def inc_age(self,n):\n",
    "        self.age += n\n",
    "        \n",
    "    def __repr__(self):\n",
    "        return self.__name+ str(self.age)   # we get the o/p as we pass the strings\n",
    "    \n",
    "    def __gt__(self,other):\n",
    "        return self.age > other.age       # We get the greater than value\n",
    "        \n",
    "class Cs_Student(Student):\n",
    "    def __init__(self,n,a,s):\n",
    "        Student.__init__(self,n,a)\n",
    "        self.section = s\n",
    "    def get_age(self):\n",
    "        print(\"Age is\",self.age)"
   ]
  },
  {
   "cell_type": "code",
   "execution_count": 30,
   "metadata": {},
   "outputs": [
    {
     "name": "stdout",
     "output_type": "stream",
     "text": [
      "Ajo's age is 23 1\n",
      "RJ's age is 22 2\n",
      "None\n",
      "Ajo's age is 23\n",
      "RJ's age is 24\n",
      "Age is 25\n",
      "fab 23\n",
      "True\n",
      "Ajo's age is 23 3\n"
     ]
    }
   ],
   "source": [
    "# import StuClass import Student, Cs_Student (StuClass is .py file )\n",
    "\n",
    "import pickle\n",
    "stu1 = Student(\"Ajo\",23)\n",
    "stu2 = Student(\"RJ\",22)\n",
    "\n",
    "print(stu1.get_name()+\"'s age is\",stu1.get_age(),stu1.roll)\n",
    "print(stu2.get_name()+\"'s age is\",stu2.get_age(),stu2.roll)\n",
    "\n",
    "print(stu2.inc_age(2))    # Only stu2 age will be increased by 2\n",
    "print(stu1.get_name()+\"'s age is\",stu1.get_age())\n",
    "print(stu2.get_name()+\"'s age is\",stu2.get_age())\n",
    "\n",
    "cstu1 = Cs_Student('sneha',25,'A')\n",
    "cstu1.get_age()\n",
    "\n",
    "print('fab',23)\n",
    "\n",
    "print('stu1' < 'stu2')\n",
    "\n",
    "f = open(\"student.bin\",\"wb\")\n",
    "pickle.dump(stu1,f)\n",
    "f.close()\n"
   ]
  },
  {
   "cell_type": "code",
   "execution_count": 31,
   "metadata": {},
   "outputs": [],
   "source": [
    "class Student:\n",
    "    '''Student class'''\n",
    "    total = 0\n",
    "    def __init__(self,n,a):\n",
    "        self.__name = n\n",
    "        self.age = a\n",
    "        self.__class__.total += 1\n",
    "        self.roll = self.__class__.total\n",
    "        \n",
    "    def get_age(self):\n",
    "        return self.age\n",
    "    \n",
    "    def get_name(self):\n",
    "        return self.__name\n",
    "    \n",
    "    def inc_age(self,n):\n",
    "        self.age += n\n",
    "        \n",
    "    def __repr__(self):\n",
    "        return self.__name+ str(self.age)   # we get the o/p as we pass the strings\n",
    "    \n",
    "    def __gt__(self,other):\n",
    "        return self.age > other.age       # We get the greater than value\n",
    "        \n",
    "class Cs_Student(Student):\n",
    "    def __init__(self,n,a,s):\n",
    "        Student.__init__(self,n,a)\n",
    "        self.section = s\n",
    "    def get_age(self):\n",
    "        print(\"Age is\",self.age)"
   ]
  },
  {
   "cell_type": "code",
   "execution_count": 32,
   "metadata": {},
   "outputs": [
    {
     "name": "stdout",
     "output_type": "stream",
     "text": [
      "Ajo's age is 23 1\n",
      "RJ's age is 22 2\n",
      "None\n",
      "Ajo's age is 23\n",
      "RJ's age is 24\n",
      "Age is 25\n",
      "fab 23\n",
      "True\n",
      "Ajo's age is 23 3\n"
     ]
    }
   ],
   "source": [
    "# import StuClass import Student, Cs_Student (StuClass is .py file )\n",
    "\n",
    "import pickle\n",
    "stu1 = Student(\"Ajo\",23)\n",
    "stu2 = Student(\"RJ\",22)\n",
    "\n",
    "print(stu1.get_name()+\"'s age is\",stu1.get_age(),stu1.roll)\n",
    "print(stu2.get_name()+\"'s age is\",stu2.get_age(),stu2.roll)\n",
    "\n",
    "print(stu2.inc_age(2))    # Only stu2 age will be increased by 2\n",
    "print(stu1.get_name()+\"'s age is\",stu1.get_age())\n",
    "print(stu2.get_name()+\"'s age is\",stu2.get_age())\n",
    "\n",
    "cstu1 = Cs_Student('sneha',25,'A')\n",
    "cstu1.get_age()\n",
    "\n",
    "print('fab',23)\n",
    "\n",
    "print('stu1' < 'stu2')\n",
    "\n",
    "f = open(\"student.bin\",\"rb\")\n",
    "newstu = pickle.load(f)\n",
    "print(newstu.get_name()+ \"'s age is\", newstu.get_age(),newstu.roll)\n",
    "f.close()"
   ]
  },
  {
   "cell_type": "code",
   "execution_count": null,
   "metadata": {},
   "outputs": [],
   "source": []
  }
 ],
 "metadata": {
  "kernelspec": {
   "display_name": "Python 3",
   "language": "python",
   "name": "python3"
  },
  "language_info": {
   "codemirror_mode": {
    "name": "ipython",
    "version": 3
   },
   "file_extension": ".py",
   "mimetype": "text/x-python",
   "name": "python",
   "nbconvert_exporter": "python",
   "pygments_lexer": "ipython3",
   "version": "3.6.5"
  }
 },
 "nbformat": 4,
 "nbformat_minor": 2
}
