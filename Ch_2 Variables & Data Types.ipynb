{
 "cells": [
  {
   "cell_type": "code",
   "execution_count": 5,
   "metadata": {},
   "outputs": [
    {
     "name": "stdout",
     "output_type": "stream",
     "text": [
      "There once was a man named Tom,\n",
      "He was 50 years old.\n",
      "He really liked the name Tom,\n",
      "but didn't like being 50.55.\n"
     ]
    }
   ],
   "source": [
    "# Variables & Data Types\n",
    "\n",
    "char_name = \"Tom\"\n",
    "char_age = \"50\"\n",
    "print(\"There once was a man named \" +char_name+ \",\")\n",
    "print(\"He was \" +char_age+ \" years old.\")\n",
    "\n",
    "char_age = \"50.55\"\n",
    "is_male=False\n",
    "print(\"He really liked the name \" +char_name+ \",\")\n",
    "print(\"but didn't like being \" +char_age+ \".\")"
   ]
  },
  {
   "cell_type": "code",
   "execution_count": null,
   "metadata": {},
   "outputs": [],
   "source": []
  }
 ],
 "metadata": {
  "kernelspec": {
   "display_name": "Python 3",
   "language": "python",
   "name": "python3"
  },
  "language_info": {
   "codemirror_mode": {
    "name": "ipython",
    "version": 3
   },
   "file_extension": ".py",
   "mimetype": "text/x-python",
   "name": "python",
   "nbconvert_exporter": "python",
   "pygments_lexer": "ipython3",
   "version": "3.6.5"
  }
 },
 "nbformat": 4,
 "nbformat_minor": 2
}
