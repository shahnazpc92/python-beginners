{
 "cells": [
  {
   "cell_type": "code",
   "execution_count": 1,
   "metadata": {},
   "outputs": [
    {
     "name": "stdout",
     "output_type": "stream",
     "text": [
      "Good morning\n"
     ]
    }
   ],
   "source": [
    "greet='good morning'\n",
    "print(greet.capitalize())"
   ]
  },
  {
   "cell_type": "code",
   "execution_count": 2,
   "metadata": {},
   "outputs": [
    {
     "name": "stdout",
     "output_type": "stream",
     "text": [
      "GOOD MORNING\n"
     ]
    }
   ],
   "source": [
    "greet='good morning'\n",
    "print(greet.upper())"
   ]
  },
  {
   "cell_type": "code",
   "execution_count": 5,
   "metadata": {},
   "outputs": [
    {
     "name": "stdout",
     "output_type": "stream",
     "text": [
      "good morning\n"
     ]
    }
   ],
   "source": [
    "greet='GOOD MORNING'\n",
    "print(greet.lower())"
   ]
  },
  {
   "cell_type": "code",
   "execution_count": 6,
   "metadata": {},
   "outputs": [
    {
     "name": "stdout",
     "output_type": "stream",
     "text": [
      "Good Morning\n"
     ]
    }
   ],
   "source": [
    "greet='good morning'\n",
    "print(greet.title())"
   ]
  },
  {
   "cell_type": "code",
   "execution_count": 7,
   "metadata": {},
   "outputs": [
    {
     "name": "stdout",
     "output_type": "stream",
     "text": [
      "GOOD MORNING\n"
     ]
    }
   ],
   "source": [
    "greet='good morning'\n",
    "print(greet.swapcase())"
   ]
  },
  {
   "cell_type": "code",
   "execution_count": 9,
   "metadata": {},
   "outputs": [
    {
     "data": {
      "text/plain": [
       "['__add__',\n",
       " '__class__',\n",
       " '__contains__',\n",
       " '__delattr__',\n",
       " '__dir__',\n",
       " '__doc__',\n",
       " '__eq__',\n",
       " '__format__',\n",
       " '__ge__',\n",
       " '__getattribute__',\n",
       " '__getitem__',\n",
       " '__getnewargs__',\n",
       " '__gt__',\n",
       " '__hash__',\n",
       " '__init__',\n",
       " '__init_subclass__',\n",
       " '__iter__',\n",
       " '__le__',\n",
       " '__len__',\n",
       " '__lt__',\n",
       " '__mod__',\n",
       " '__mul__',\n",
       " '__ne__',\n",
       " '__new__',\n",
       " '__reduce__',\n",
       " '__reduce_ex__',\n",
       " '__repr__',\n",
       " '__rmod__',\n",
       " '__rmul__',\n",
       " '__setattr__',\n",
       " '__sizeof__',\n",
       " '__str__',\n",
       " '__subclasshook__',\n",
       " 'capitalize',\n",
       " 'casefold',\n",
       " 'center',\n",
       " 'count',\n",
       " 'encode',\n",
       " 'endswith',\n",
       " 'expandtabs',\n",
       " 'find',\n",
       " 'format',\n",
       " 'format_map',\n",
       " 'index',\n",
       " 'isalnum',\n",
       " 'isalpha',\n",
       " 'isdecimal',\n",
       " 'isdigit',\n",
       " 'isidentifier',\n",
       " 'islower',\n",
       " 'isnumeric',\n",
       " 'isprintable',\n",
       " 'isspace',\n",
       " 'istitle',\n",
       " 'isupper',\n",
       " 'join',\n",
       " 'ljust',\n",
       " 'lower',\n",
       " 'lstrip',\n",
       " 'maketrans',\n",
       " 'partition',\n",
       " 'replace',\n",
       " 'rfind',\n",
       " 'rindex',\n",
       " 'rjust',\n",
       " 'rpartition',\n",
       " 'rsplit',\n",
       " 'rstrip',\n",
       " 'split',\n",
       " 'splitlines',\n",
       " 'startswith',\n",
       " 'strip',\n",
       " 'swapcase',\n",
       " 'title',\n",
       " 'translate',\n",
       " 'upper',\n",
       " 'zfill']"
      ]
     },
     "execution_count": 9,
     "metadata": {},
     "output_type": "execute_result"
    }
   ],
   "source": [
    "dir(greet) #function"
   ]
  },
  {
   "cell_type": "code",
   "execution_count": 2,
   "metadata": {},
   "outputs": [
    {
     "name": "stdout",
     "output_type": "stream",
     "text": [
      "Enter Yes or No:yes\n",
      "You Typed Yes\n"
     ]
    }
   ],
   "source": [
    "def yesno():\n",
    "    ans=input(\"Enter Yes or No:\").strip()\n",
    "    if ans.upper()==\"YES\":\n",
    "        print(\"You Typed Yes\")\n",
    "    elif ans.upper()==\"NO\":\n",
    "        print(\"You Typed No\")\n",
    "    else:\n",
    "        print(\"Please Enter Yes or No\")\n",
    "yesno()"
   ]
  },
  {
   "cell_type": "code",
   "execution_count": 3,
   "metadata": {},
   "outputs": [
    {
     "name": "stdout",
     "output_type": "stream",
     "text": [
      "Enter your wage:300\n",
      "Daily wage is 2400\n"
     ]
    }
   ],
   "source": [
    "wage=input(\"Enter your wage:\")\n",
    "if wage.isdigit():\n",
    "    wage=int(wage)\n",
    "else:\n",
    "    wage=250\n",
    "print(\"Daily wage is\",wage*8)"
   ]
  },
  {
   "cell_type": "code",
   "execution_count": 12,
   "metadata": {},
   "outputs": [
    {
     "name": "stdout",
     "output_type": "stream",
     "text": [
      "shahnaz patel\n",
      "Jungkook jeon 7.333333\n",
      "Kim           Seokjin 7.33\n",
      "|Kim        |   taehyung | 7.33|\n",
      "|      Park | Jimin      | 7.33|\n",
      "|Jung | Hoseok | 7.33|\n"
     ]
    }
   ],
   "source": [
    "fn,ln='shahnaz','patel'\n",
    "print(\"%s %s\" %(fn,ln))\n",
    "\n",
    "fn,ln='Jungkook','jeon'\n",
    "print(\"%s %s %f\" %(fn,ln,22/3))\n",
    "\n",
    "fn,ln='Kim','Seokjin'\n",
    "print(\"%-10s %10s %0.2f\" %(fn,ln,22/3))\n",
    "\n",
    "fn,ln='Kim','taehyung'\n",
    "print(\"|%-10s | %10s | %0.2f|\" %(fn,ln,22/3))\n",
    "\n",
    "fn,ln='Park','Jimin'\n",
    "print(\"|%10s | %-10s | %0.2f|\" %(fn,ln,22/3))\n",
    "\n",
    "fn,ln='Jung','Hoseok'\n",
    "print(\"|%s | %s | %0.2f|\" %(fn,ln,22/3))"
   ]
  },
  {
   "cell_type": "code",
   "execution_count": 23,
   "metadata": {},
   "outputs": [
    {
     "data": {
      "text/plain": [
       "'abc;def;ghi'"
      ]
     },
     "execution_count": 23,
     "metadata": {},
     "output_type": "execute_result"
    }
   ],
   "source": [
    "#JOIN turns a list of strings into one string <SEPARATOR_STRING>.JOIN(<SOME_LIST>)\n",
    "\n",
    "\";\".join([\"abc\",\"def\",\"ghi\"])\n"
   ]
  },
  {
   "cell_type": "code",
   "execution_count": 22,
   "metadata": {},
   "outputs": [
    {
     "data": {
      "text/plain": [
       "['abc', 'def', 'ghi']"
      ]
     },
     "execution_count": 22,
     "metadata": {},
     "output_type": "execute_result"
    }
   ],
   "source": [
    "#SPLIT turns one string into list of strings <SOME_STRING>.SPLIT(<SEPARATOR_STRING>)\n",
    "\n",
    "\"abc;def;ghi\".split(\";\")"
   ]
  },
  {
   "cell_type": "code",
   "execution_count": 28,
   "metadata": {},
   "outputs": [
    {
     "data": {
      "text/plain": [
       "['a.in', 'c.in', 'd.in']"
      ]
     },
     "execution_count": 28,
     "metadata": {},
     "output_type": "execute_result"
    }
   ],
   "source": [
    "urls=['a.in','b.ch','c.in','d.in','e.jp']\n",
    "\n",
    "list(filter(lambda x:x.endswith('in'),urls))"
   ]
  },
  {
   "cell_type": "code",
   "execution_count": 34,
   "metadata": {},
   "outputs": [
    {
     "name": "stdout",
     "output_type": "stream",
     "text": [
      "True\n"
     ]
    }
   ],
   "source": [
    "palstr='A man, A plan, A canal; Panama'\n",
    "\n",
    "pallist=list(palstr.upper())\n",
    "\n",
    "pallist=list(filter(lambda x:x.isalpha(),pallist))\n",
    "print(pallist == pallist[::-1])\n"
   ]
  },
  {
   "cell_type": "code",
   "execution_count": null,
   "metadata": {},
   "outputs": [],
   "source": []
  }
 ],
 "metadata": {
  "kernelspec": {
   "display_name": "Python 3",
   "language": "python",
   "name": "python3"
  },
  "language_info": {
   "codemirror_mode": {
    "name": "ipython",
    "version": 3
   },
   "file_extension": ".py",
   "mimetype": "text/x-python",
   "name": "python",
   "nbconvert_exporter": "python",
   "pygments_lexer": "ipython3",
   "version": "3.6.5"
  }
 },
 "nbformat": 4,
 "nbformat_minor": 2
}
