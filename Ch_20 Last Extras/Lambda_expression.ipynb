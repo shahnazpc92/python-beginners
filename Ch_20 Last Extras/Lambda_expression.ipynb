{
 "cells": [
  {
   "cell_type": "code",
   "execution_count": 6,
   "metadata": {},
   "outputs": [
    {
     "name": "stdout",
     "output_type": "stream",
     "text": [
      "14\n"
     ]
    }
   ],
   "source": [
    "def applier(q,x):\n",
    "    return q(x)\n",
    "print(applier(lambda x:x*2,7))\n"
   ]
  },
  {
   "cell_type": "code",
   "execution_count": 7,
   "metadata": {
    "scrolled": true
   },
   "outputs": [
    {
     "name": "stdout",
     "output_type": "stream",
     "text": [
      "15\n"
     ]
    }
   ],
   "source": [
    "def applier2(q,x,y):\n",
    "    return q(x,y)\n",
    "\n",
    "print (applier2(lambda x,y:x+y,7,8))"
   ]
  },
  {
   "cell_type": "code",
   "execution_count": 8,
   "metadata": {},
   "outputs": [
    {
     "name": "stdout",
     "output_type": "stream",
     "text": [
      "5\n"
     ]
    }
   ],
   "source": [
    "def applier2(q,x,y):\n",
    "    return q(x,y)\n",
    "\n",
    "print(applier2(lambda x,y:x-y,7,2))"
   ]
  },
  {
   "cell_type": "code",
   "execution_count": 9,
   "metadata": {},
   "outputs": [
    {
     "name": "stdout",
     "output_type": "stream",
     "text": [
      "12\n"
     ]
    }
   ],
   "source": [
    "def applier(q,x,y):\n",
    "    return q(x,y)\n",
    "print (applier(lambda x,y:x*y,4,3))"
   ]
  },
  {
   "cell_type": "code",
   "execution_count": 17,
   "metadata": {},
   "outputs": [
    {
     "name": "stdout",
     "output_type": "stream",
     "text": [
      "5.0\n"
     ]
    }
   ],
   "source": [
    "def applier(q,x,y,z):\n",
    "    return q(x,y,z)\n",
    "print (applier(lambda x,y,z:x+y/z,3,4,2))"
   ]
  },
  {
   "cell_type": "code",
   "execution_count": 18,
   "metadata": {},
   "outputs": [
    {
     "name": "stdout",
     "output_type": "stream",
     "text": [
      "7\n"
     ]
    }
   ],
   "source": [
    "def mak_inc(n):\n",
    "    return lambda x:n+x\n",
    "f2= mak_inc(2)\n",
    "print(f2(5))"
   ]
  },
  {
   "cell_type": "code",
   "execution_count": 23,
   "metadata": {},
   "outputs": [
    {
     "name": "stdout",
     "output_type": "stream",
     "text": [
      "9\n"
     ]
    }
   ],
   "source": [
    "def mak(y,w):\n",
    "    return lambda x,z:y*x+z-w\n",
    "f2=mak(3,1)\n",
    "print (f2(2,4))"
   ]
  },
  {
   "cell_type": "code",
   "execution_count": 24,
   "metadata": {},
   "outputs": [
    {
     "name": "stdout",
     "output_type": "stream",
     "text": [
      "http://www.google.com\n",
      "https://www.google.com\n"
     ]
    }
   ],
   "source": [
    "ie=mak_inc('http://')\n",
    "ch=mak_inc('https://')\n",
    "\n",
    "print(ie('www.google.com'))\n",
    "print(ch('www.google.com'))"
   ]
  },
  {
   "cell_type": "code",
   "execution_count": 28,
   "metadata": {},
   "outputs": [
    {
     "data": {
      "text/plain": [
       "625"
      ]
     },
     "execution_count": 28,
     "metadata": {},
     "output_type": "execute_result"
    }
   ],
   "source": [
    "def square(x):\n",
    "    return x*x\n",
    "def twice(f):\n",
    "    return lambda x:f(f(x))\n",
    "\n",
    "quad=twice(square)\n",
    "\n",
    "quad(5)\n"
   ]
  },
  {
   "cell_type": "code",
   "execution_count": 7,
   "metadata": {},
   "outputs": [
    {
     "name": "stdout",
     "output_type": "stream",
     "text": [
      "49\n"
     ]
    }
   ],
   "source": [
    "def square(x):\n",
    "    return x * x\n",
    "\n",
    "def applier(q,x):\n",
    "    return q(x)\n",
    "\n",
    "print(applier(square,7))\n"
   ]
  },
  {
   "cell_type": "code",
   "execution_count": 14,
   "metadata": {},
   "outputs": [
    {
     "data": {
      "text/plain": [
       "16"
      ]
     },
     "execution_count": 14,
     "metadata": {},
     "output_type": "execute_result"
    }
   ],
   "source": [
    "def square(x):\n",
    "    return x * x\n",
    "def double(f):     # We can put 'd' instead of (f)\n",
    "    return lambda x:f(f(x))    # If we put 'd' instead of (f) above then we've to change it to d here as x:d(d(x))\n",
    "quad = double(square)\n",
    "quad(2)"
   ]
  },
  {
   "cell_type": "code",
   "execution_count": 16,
   "metadata": {},
   "outputs": [
    {
     "name": "stdout",
     "output_type": "stream",
     "text": [
      "8\n"
     ]
    }
   ],
   "source": [
    "def cube(x):\n",
    "    return x * x * x\n",
    "def app(q,x):\n",
    "    return q(x)\n",
    "print(app(cube,2))"
   ]
  },
  {
   "cell_type": "code",
   "execution_count": 19,
   "metadata": {},
   "outputs": [
    {
     "name": "stdout",
     "output_type": "stream",
     "text": [
      "5\n"
     ]
    }
   ],
   "source": [
    "def applier(q,x,y):\n",
    "    return q(x,y)\n",
    "print(applier (lambda x,y : x + y, 3,2))"
   ]
  },
  {
   "cell_type": "code",
   "execution_count": 20,
   "metadata": {},
   "outputs": [
    {
     "name": "stdout",
     "output_type": "stream",
     "text": [
      "2\n"
     ]
    }
   ],
   "source": [
    "def substract(q,x,y):\n",
    "    return q(x,y)\n",
    "print(substract (lambda x,y : x - y, 4,2))"
   ]
  },
  {
   "cell_type": "code",
   "execution_count": 21,
   "metadata": {},
   "outputs": [
    {
     "name": "stdout",
     "output_type": "stream",
     "text": [
      "8\n"
     ]
    }
   ],
   "source": [
    "def multi(q,x,y):\n",
    "    return q(x,y)\n",
    "print(multi (lambda x,y : x * y, 4,2))"
   ]
  },
  {
   "cell_type": "code",
   "execution_count": 22,
   "metadata": {},
   "outputs": [
    {
     "name": "stdout",
     "output_type": "stream",
     "text": [
      "3.0\n"
     ]
    }
   ],
   "source": [
    "def divide(q,x,y):\n",
    "    return q(x,y)\n",
    "print(divide (lambda x,y : x / y, 6,2))"
   ]
  },
  {
   "cell_type": "code",
   "execution_count": 23,
   "metadata": {},
   "outputs": [
    {
     "name": "stdout",
     "output_type": "stream",
     "text": [
      "9\n"
     ]
    }
   ],
   "source": [
    "def square(q,x):\n",
    "    return q(x)\n",
    "print(square (lambda x : x * x,3))"
   ]
  },
  {
   "cell_type": "code",
   "execution_count": 24,
   "metadata": {},
   "outputs": [
    {
     "name": "stdout",
     "output_type": "stream",
     "text": [
      "27\n"
     ]
    }
   ],
   "source": [
    "def cube(q,x):\n",
    "    return q(x)\n",
    "print(cube (lambda x : x * x * x,3))"
   ]
  },
  {
   "cell_type": "code",
   "execution_count": 28,
   "metadata": {},
   "outputs": [
    {
     "name": "stdout",
     "output_type": "stream",
     "text": [
      "5\n",
      "2\n",
      "8\n",
      "3.0\n",
      "9\n",
      "27\n"
     ]
    }
   ],
   "source": [
    "def applier(q,x,y):\n",
    "    return q(x,y)\n",
    "\n",
    "print(applier (lambda x,y : x + y, 3,2))\n",
    "print(substract (lambda x,y : x - y, 4,2))\n",
    "print(multi (lambda x,y : x * y, 4,2))\n",
    "print(divide (lambda x,y : x / y, 6,2))\n",
    "print(square (lambda x : x * x,3))\n",
    "print(cube (lambda x : x * x * x,3))"
   ]
  },
  {
   "cell_type": "code",
   "execution_count": 31,
   "metadata": {},
   "outputs": [
    {
     "name": "stdout",
     "output_type": "stream",
     "text": [
      "[12, 11, 12, 13, 13, 9, 11, 12, 9]\n",
      "a 3\n",
      "b 6\n",
      "c 3\n",
      "[0, 2, 7]\n"
     ]
    }
   ],
   "source": [
    "li1 = [12,11,12,13,13,9,11,12,9]\n",
    "#for var in li1:\n",
    "print(li1)\n",
    "    \n",
    "li2 = [('a',3),('b',6),('c',3)]\n",
    "for (x,y) in li2:\n",
    "    print(x,y)\n",
    "    \n",
    "def return_index(myli,val):\n",
    "    index_list = []\n",
    "    counter = 0\n",
    "    for var in myli:\n",
    "        if var == val:\n",
    "            index_list.append(counter)\n",
    "        counter += 1\n",
    "    return index_list\n",
    "\n",
    "print(return_index(li1,12))"
   ]
  },
  {
   "cell_type": "code",
   "execution_count": 32,
   "metadata": {},
   "outputs": [
    {
     "name": "stdout",
     "output_type": "stream",
     "text": [
      "{9, 11, 12, 13}\n",
      "{7, 9, 10, 12, 13, 14}\n"
     ]
    }
   ],
   "source": [
    "li1 = [12,11,12,13,13,9,11,12,9]\n",
    "li2 = [10,9,7,12,10,9,7,14,13,14]\n",
    "\n",
    "s1 = set(li1)\n",
    "s2 = set(li2)\n",
    "print(s1)\n",
    "print(s2)"
   ]
  },
  {
   "cell_type": "code",
   "execution_count": 34,
   "metadata": {},
   "outputs": [
    {
     "data": {
      "text/plain": [
       "['__and__',\n",
       " '__class__',\n",
       " '__contains__',\n",
       " '__delattr__',\n",
       " '__dir__',\n",
       " '__doc__',\n",
       " '__eq__',\n",
       " '__format__',\n",
       " '__ge__',\n",
       " '__getattribute__',\n",
       " '__gt__',\n",
       " '__hash__',\n",
       " '__iand__',\n",
       " '__init__',\n",
       " '__init_subclass__',\n",
       " '__ior__',\n",
       " '__isub__',\n",
       " '__iter__',\n",
       " '__ixor__',\n",
       " '__le__',\n",
       " '__len__',\n",
       " '__lt__',\n",
       " '__ne__',\n",
       " '__new__',\n",
       " '__or__',\n",
       " '__rand__',\n",
       " '__reduce__',\n",
       " '__reduce_ex__',\n",
       " '__repr__',\n",
       " '__ror__',\n",
       " '__rsub__',\n",
       " '__rxor__',\n",
       " '__setattr__',\n",
       " '__sizeof__',\n",
       " '__str__',\n",
       " '__sub__',\n",
       " '__subclasshook__',\n",
       " '__xor__',\n",
       " 'add',\n",
       " 'clear',\n",
       " 'copy',\n",
       " 'difference',\n",
       " 'difference_update',\n",
       " 'discard',\n",
       " 'intersection',\n",
       " 'intersection_update',\n",
       " 'isdisjoint',\n",
       " 'issubset',\n",
       " 'issuperset',\n",
       " 'pop',\n",
       " 'remove',\n",
       " 'symmetric_difference',\n",
       " 'symmetric_difference_update',\n",
       " 'union',\n",
       " 'update']"
      ]
     },
     "execution_count": 34,
     "metadata": {},
     "output_type": "execute_result"
    }
   ],
   "source": [
    "dir(set)"
   ]
  },
  {
   "cell_type": "code",
   "execution_count": 66,
   "metadata": {},
   "outputs": [
    {
     "name": "stdout",
     "output_type": "stream",
     "text": [
      "{7, 9, 10, 11, 12, 13, 14}\n",
      "{9, 12, 13}\n"
     ]
    }
   ],
   "source": [
    "li1 = [12,11,12,13,13,9,11,12,9]\n",
    "li2 = [10,9,7,12,10,9,7,14,13,14]\n",
    "\n",
    "s1 = set(li1)\n",
    "s2 = set(li2)\n",
    "\n",
    "print(s1.union(s2))\n",
    "print(s1.intersection(s2))\n"
   ]
  },
  {
   "cell_type": "code",
   "execution_count": 48,
   "metadata": {},
   "outputs": [
    {
     "name": "stdout",
     "output_type": "stream",
     "text": [
      "{9, 11, 12, 13}\n",
      "{7, 9, 10, 12, 13, 14}\n",
      "{'d', 'l', 'x', 'j'}\n"
     ]
    }
   ],
   "source": [
    "li1 = [12,11,12,13,13,9,11,12,9]\n",
    "li2 = [10,9,7,12,10,9,7,14,13,14]\n",
    "\n",
    "s1 = set(li1)\n",
    "s2 = set(li2)\n",
    "print(s1)\n",
    "print(s2)\n",
    "\n",
    "d1 = {'l':12,'d':9,'j':15,'x':7}\n",
    "d2 = {'d':11,'s':5,'x':19,'z':6}\n",
    "\n",
    "def dictionary(dict1,dict2):\n",
    "    inter = {}\n",
    "    s1,s2 = set(dict1), set(dict2)\n",
    "    print(s1)\n",
    "    \n",
    "dictionary(d1,d2)"
   ]
  },
  {
   "cell_type": "code",
   "execution_count": 55,
   "metadata": {},
   "outputs": [
    {
     "name": "stdout",
     "output_type": "stream",
     "text": [
      "{}\n",
      "{'d': [9, 11]}\n",
      "{'d': [9, 11], 'x': [7, 19]}\n",
      "{}\n",
      "{'z': 6}\n",
      "{'z': 6, 'x': [7, 19]}\n",
      "{'z': 6, 'x': [7, 19], 'j': 15}\n",
      "{'z': 6, 'x': [7, 19], 'j': 15, 'd': [9, 11]}\n",
      "{'z': 6, 'x': [7, 19], 'j': 15, 'd': [9, 11], 'l': 12}\n",
      "{'z': 6, 'x': [7, 19], 'j': 15, 'd': [9, 11], 'l': 12, 's': 5}\n"
     ]
    }
   ],
   "source": [
    "d1 = {'l':12,'d':9,'j':15,'x':7}\n",
    "d2 = {'d':11,'s':5,'x':19,'z':6}\n",
    "\n",
    "\n",
    "def dictionary(dict1,dict2):\n",
    "    inter = {}\n",
    "    s1,s2 = set(dict1), set(dict2)\n",
    "    for var in s1.intersection(s2):\n",
    "        print(inter)\n",
    "        inter[var] = [dict1[var],dict2[var]]\n",
    "    return inter\n",
    "    \n",
    "print(dictionary(d1,d2))\n",
    "\n",
    "def dictionary_union(dict1,dict2):\n",
    "    union = {}\n",
    "    s1,s2 = set(dict1), set(dict2)\n",
    "    for var in s1.union(s2):\n",
    "        print(union)\n",
    "        if var in s1 and var in s2:\n",
    "            union[var] = [dict1[var],dict2[var]]\n",
    "        elif var in s1:\n",
    "            union[var] = dict1[var]\n",
    "        else:\n",
    "            union[var] = dict2[var]\n",
    "    return union\n",
    "    \n",
    "print(dictionary_union(d1,d2))\n"
   ]
  },
  {
   "cell_type": "code",
   "execution_count": 1,
   "metadata": {},
   "outputs": [
    {
     "name": "stdout",
     "output_type": "stream",
     "text": [
      "[12, 11, 12, 13, 13, 9, 11, 12, 9, 5]\n"
     ]
    }
   ],
   "source": [
    "li1 = [12,11,12,13,13,9,11,12,9]\n",
    "li1.append(5)\n",
    "print(li1)"
   ]
  },
  {
   "cell_type": "code",
   "execution_count": 8,
   "metadata": {},
   "outputs": [
    {
     "data": {
      "text/plain": [
       "[100, 121, 144, 169, 196, 225, 256, 289, 324, 361]"
      ]
     },
     "execution_count": 8,
     "metadata": {},
     "output_type": "execute_result"
    }
   ],
   "source": [
    "def square(x):\n",
    "    return x * x\n",
    "def even(x):\n",
    "    return 0 == x % 2\n",
    "\n",
    "list(map(square, range(10,20)))\n"
   ]
  },
  {
   "cell_type": "code",
   "execution_count": 9,
   "metadata": {},
   "outputs": [
    {
     "data": {
      "text/plain": [
       "[10, 12, 14, 16, 18]"
      ]
     },
     "execution_count": 9,
     "metadata": {},
     "output_type": "execute_result"
    }
   ],
   "source": [
    "def square(x):\n",
    "    return x * x\n",
    "def even(x):\n",
    "    return 0 == x % 2\n",
    "\n",
    "list(filter(even, range(10,20)))"
   ]
  },
  {
   "cell_type": "code",
   "execution_count": 13,
   "metadata": {},
   "outputs": [
    {
     "data": {
      "text/plain": [
       "[100, 144, 196, 256, 324]"
      ]
     },
     "execution_count": 13,
     "metadata": {},
     "output_type": "execute_result"
    }
   ],
   "source": [
    "def square(x):\n",
    "    return x * x\n",
    "def even(x):\n",
    "    return 0 == x % 2\n",
    "\n",
    "list(map(square, filter(even, range(10,20))))"
   ]
  },
  {
   "cell_type": "code",
   "execution_count": 14,
   "metadata": {},
   "outputs": [
    {
     "data": {
      "text/plain": [
       "[20, 22, 24, 26, 28, 30, 32, 34, 36, 38]"
      ]
     },
     "execution_count": 14,
     "metadata": {},
     "output_type": "execute_result"
    }
   ],
   "source": [
    "def double(x):\n",
    "    return 2 * x\n",
    "\n",
    "list(map(double, range(10,20)))"
   ]
  },
  {
   "cell_type": "code",
   "execution_count": 15,
   "metadata": {},
   "outputs": [
    {
     "name": "stdout",
     "output_type": "stream",
     "text": [
      "['http://a.in', 'http://b.hk', 'http://c.in', 'http://d.jp', 'http://e.in']\n"
     ]
    }
   ],
   "source": [
    "urls = ['a.in','b.hk','c.in','d.jp','e.in']\n",
    "\n",
    "def addproto(x):\n",
    "    return 'http://' + x\n",
    "\n",
    "print(list(map(addproto,urls)))"
   ]
  },
  {
   "cell_type": "code",
   "execution_count": 26,
   "metadata": {},
   "outputs": [
    {
     "name": "stdout",
     "output_type": "stream",
     "text": [
      "[26, 28, 30, 32, 34, 36]\n",
      "[(10, 16), (11, 17), (12, 18), (13, 19), (14, 20), (15, 21)]\n",
      "{10: 16, 11: 17, 12: 18, 13: 19, 14: 20, 15: 21}\n",
      "[(0, 10), (1, 11), (2, 12), (3, 13), (4, 14), (5, 15)]\n",
      "75\n",
      "['h', 't', 't', 'p', ':', '/', '/', 'w', 'w', 'w', '.', 'g', 'o', 'o', 'g', 'l', 'e', '.', 'i', 'n']\n",
      "https://www.google.in\n"
     ]
    }
   ],
   "source": [
    "from functools import reduce\n",
    "\n",
    "li1 = [10,11,12,13,14,15]\n",
    "li2 = [16,17,18,19,20,21]\n",
    "\n",
    "def mysum(x,y):\n",
    "    return x + y\n",
    "\n",
    "print(list(map(mysum,li1,li2)))  #important funct\n",
    "print(list(zip(li1,li2)))        #important funct\n",
    "print(dict(zip(li1,li2)))        #important funct\n",
    "print(list(enumerate(li1)))\n",
    "\n",
    "print(reduce(mysum,li1))\n",
    "url = 'http://www.google.in'\n",
    "lurl = list(url)\n",
    "print(lurl)\n",
    "\n",
    "lurl.insert(4,'s')   #index no. is 4\n",
    "print(reduce(mysum,lurl))"
   ]
  },
  {
   "cell_type": "code",
   "execution_count": 32,
   "metadata": {},
   "outputs": [
    {
     "data": {
      "text/plain": [
       "[20, 18, 16, 14, 12, 8, 6, 4, 2]"
      ]
     },
     "execution_count": 32,
     "metadata": {},
     "output_type": "execute_result"
    }
   ],
   "source": [
    "li = [10,9,8,7,6,4,3,2,1]\n",
    "\n",
    "[elem * 2 for elem in li]"
   ]
  },
  {
   "cell_type": "code",
   "execution_count": 39,
   "metadata": {},
   "outputs": [
    {
     "data": {
      "text/plain": [
       "[3, 6, 9, 12, 15]"
      ]
     },
     "execution_count": 39,
     "metadata": {},
     "output_type": "execute_result"
    }
   ],
   "source": [
    "li = [('a',1),('b',2),('c',3),('d',4),('e',5)]\n",
    "[ n * 3 for (x,n) in li]  # x * 3\n"
   ]
  },
  {
   "cell_type": "code",
   "execution_count": 41,
   "metadata": {},
   "outputs": [
    {
     "name": "stdout",
     "output_type": "stream",
     "text": [
      "['aaa', 'bbb', 'ccc', 'ddd', 'eee']\n"
     ]
    }
   ],
   "source": [
    "[ n * 3 for (n,x) in li]  # n * 3"
   ]
  },
  {
   "cell_type": "code",
   "execution_count": 42,
   "metadata": {},
   "outputs": [
    {
     "data": {
      "text/plain": [
       "[-3, 6, 0]"
      ]
     },
     "execution_count": 42,
     "metadata": {},
     "output_type": "execute_result"
    }
   ],
   "source": [
    "def substract(a,b):\n",
    "    return a - b\n",
    "\n",
    "oplist = [(6,3),(1,7),(5,5)]\n",
    "[substract(y,x) for (x,y) in oplist]"
   ]
  },
  {
   "cell_type": "code",
   "execution_count": 10,
   "metadata": {},
   "outputs": [
    {
     "name": "stdout",
     "output_type": "stream",
     "text": [
      "49\n",
      "10\n",
      "11\n"
     ]
    }
   ],
   "source": [
    "def applier(q,x):\n",
    "    return q(x)\n",
    "\n",
    "print(applier(lambda x : x * x,7))\n",
    "\n",
    "def applier1(q,x,y):\n",
    "    return q(x,y)\n",
    "\n",
    "print(applier1(lambda x,y: x * y, 2,5))\n",
    "\n",
    "#def myadd(x,y):\n",
    " #   return x + y\n",
    "print(applier1(lambda x,y: x + y,5,6))"
   ]
  },
  {
   "cell_type": "code",
   "execution_count": 1,
   "metadata": {},
   "outputs": [
    {
     "name": "stdout",
     "output_type": "stream",
     "text": [
      "['http://a.in', 'http://b.hk', 'http://c.in', 'http://d.jp', 'http://e.in']\n"
     ]
    }
   ],
   "source": [
    "urls = ['a.in','b.hk','c.in','d.jp','e.in']\n",
    "\n",
    "#def addproto(x):\n",
    "#    return 'http://' + x  #instead of def function we can use LAMBDA\n",
    "\n",
    "print(list(map(lambda x : 'http://' + x ,urls)))"
   ]
  },
  {
   "cell_type": "code",
   "execution_count": 13,
   "metadata": {},
   "outputs": [
    {
     "data": {
      "text/plain": [
       "[20, 22, 24, 26, 28, 30, 32, 34, 36, 38]"
      ]
     },
     "execution_count": 13,
     "metadata": {},
     "output_type": "execute_result"
    }
   ],
   "source": [
    "#def double(x):\n",
    "#    return 2 * x\n",
    "\n",
    "list(map(lambda x : 2 * x, range(10,20)))"
   ]
  },
  {
   "cell_type": "code",
   "execution_count": 26,
   "metadata": {},
   "outputs": [
    {
     "name": "stdout",
     "output_type": "stream",
     "text": [
      "[True, False, True, False, True, False, True, False, True, False]\n"
     ]
    }
   ],
   "source": [
    "#li1 = [12,11,12,13,13,9,11,12,9]\n",
    "print(list(map(lambda x :x%2==0,range(10,20))))"
   ]
  },
  {
   "cell_type": "code",
   "execution_count": 3,
   "metadata": {},
   "outputs": [
    {
     "name": "stdout",
     "output_type": "stream",
     "text": [
      "49\n",
      "11\n",
      "6\n",
      "8\n"
     ]
    }
   ],
   "source": [
    "def applier(q,x):\n",
    "    return q(x)\n",
    "\n",
    "print(applier(lambda x: x * x,7))\n",
    "\n",
    "def applier2(q,x,y):\n",
    "    return q(x,y)\n",
    "    \n",
    "print(applier2(lambda x,y: x+y,5,6))\n",
    "def mak_inc(n):\n",
    "    return lambda x : n+x\n",
    "#print(applier(mak_in(4),3))\n",
    "f1 = mak_inc(1)\n",
    "f2 = mak_inc(2)\n",
    "print(f1(5))\n",
    "print(f2(6))"
   ]
  },
  {
   "cell_type": "code",
   "execution_count": 32,
   "metadata": {},
   "outputs": [
    {
     "name": "stdout",
     "output_type": "stream",
     "text": [
      "Arguments are:  ('a', 'b')\n",
      "Arguments are:  (1, 2, 3, 4, 5)\n",
      "With only Non Keywords: \n",
      "('d', 'e', 'f')\n",
      "{}\n",
      "With only keywords: \n",
      "()\n",
      "{'u': 2, 'v': 3, 'w': 4}\n",
      "With Mixed: \n",
      "(9, 10)\n",
      "{'x': 1, 'y': 2}\n"
     ]
    }
   ],
   "source": [
    "def varargs(*args):\n",
    "    print(\"Arguments are: \",args)\n",
    "    \n",
    "varargs('a','b')\n",
    "varargs(1,2,3,4,5)\n",
    "\n",
    "def varkargs(*args,**kargs):     # single * to store multiple elements and double ** is for storing the multiple keywords\n",
    "    print(args)\n",
    "    print(kargs)\n",
    "    \n",
    "print(\"With only Non Keywords: \")\n",
    "varkargs('d','e','f')\n",
    "print(\"With only keywords: \")\n",
    "varkargs(u=2,v=3,w=4)\n",
    "print(\"With Mixed: \")\n",
    "varkargs(9,10,x=1,y=2)"
   ]
  },
  {
   "cell_type": "code",
   "execution_count": 37,
   "metadata": {},
   "outputs": [
    {
     "name": "stdout",
     "output_type": "stream",
     "text": [
      "li2 =  [12, 14, 18]\n"
     ]
    }
   ],
   "source": [
    "li = [3,6,2,7,1,9]\n",
    "print(\"li2 = \",[elem * 2 for elem in li if elem > 4])"
   ]
  },
  {
   "cell_type": "code",
   "execution_count": null,
   "metadata": {},
   "outputs": [],
   "source": []
  }
 ],
 "metadata": {
  "kernelspec": {
   "display_name": "Python 3",
   "language": "python",
   "name": "python3"
  },
  "language_info": {
   "codemirror_mode": {
    "name": "ipython",
    "version": 3
   },
   "file_extension": ".py",
   "mimetype": "text/x-python",
   "name": "python",
   "nbconvert_exporter": "python",
   "pygments_lexer": "ipython3",
   "version": "3.6.5"
  }
 },
 "nbformat": 4,
 "nbformat_minor": 2
}
