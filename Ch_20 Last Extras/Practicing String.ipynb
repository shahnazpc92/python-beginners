{
 "cells": [
  {
   "cell_type": "code",
   "execution_count": 5,
   "metadata": {},
   "outputs": [
    {
     "data": {
      "text/plain": [
       "['__add__',\n",
       " '__class__',\n",
       " '__contains__',\n",
       " '__delattr__',\n",
       " '__dir__',\n",
       " '__doc__',\n",
       " '__eq__',\n",
       " '__format__',\n",
       " '__ge__',\n",
       " '__getattribute__',\n",
       " '__getitem__',\n",
       " '__getnewargs__',\n",
       " '__gt__',\n",
       " '__hash__',\n",
       " '__init__',\n",
       " '__init_subclass__',\n",
       " '__iter__',\n",
       " '__le__',\n",
       " '__len__',\n",
       " '__lt__',\n",
       " '__mod__',\n",
       " '__mul__',\n",
       " '__ne__',\n",
       " '__new__',\n",
       " '__reduce__',\n",
       " '__reduce_ex__',\n",
       " '__repr__',\n",
       " '__rmod__',\n",
       " '__rmul__',\n",
       " '__setattr__',\n",
       " '__sizeof__',\n",
       " '__str__',\n",
       " '__subclasshook__',\n",
       " 'capitalize',\n",
       " 'casefold',\n",
       " 'center',\n",
       " 'count',\n",
       " 'encode',\n",
       " 'endswith',\n",
       " 'expandtabs',\n",
       " 'find',\n",
       " 'format',\n",
       " 'format_map',\n",
       " 'index',\n",
       " 'isalnum',\n",
       " 'isalpha',\n",
       " 'isdecimal',\n",
       " 'isdigit',\n",
       " 'isidentifier',\n",
       " 'islower',\n",
       " 'isnumeric',\n",
       " 'isprintable',\n",
       " 'isspace',\n",
       " 'istitle',\n",
       " 'isupper',\n",
       " 'join',\n",
       " 'ljust',\n",
       " 'lower',\n",
       " 'lstrip',\n",
       " 'maketrans',\n",
       " 'partition',\n",
       " 'replace',\n",
       " 'rfind',\n",
       " 'rindex',\n",
       " 'rjust',\n",
       " 'rpartition',\n",
       " 'rsplit',\n",
       " 'rstrip',\n",
       " 'split',\n",
       " 'splitlines',\n",
       " 'startswith',\n",
       " 'strip',\n",
       " 'swapcase',\n",
       " 'title',\n",
       " 'translate',\n",
       " 'upper',\n",
       " 'zfill']"
      ]
     },
     "execution_count": 5,
     "metadata": {},
     "output_type": "execute_result"
    }
   ],
   "source": [
    "dir(greet)"
   ]
  },
  {
   "cell_type": "code",
   "execution_count": 8,
   "metadata": {},
   "outputs": [
    {
     "name": "stdout",
     "output_type": "stream",
     "text": [
      "good morning\n",
      "Good morning\n",
      "Good Morning\n",
      "GOOD MORNING\n"
     ]
    }
   ],
   "source": [
    "greet = \"good morning\"\n",
    "print(greet)\n",
    "print(greet.capitalize())\n",
    "print(greet.title())\n",
    "print(greet.upper())"
   ]
  },
  {
   "cell_type": "code",
   "execution_count": 21,
   "metadata": {},
   "outputs": [
    {
     "name": "stdout",
     "output_type": "stream",
     "text": [
      "Enter Yes or No :vjhgjg\n",
      "Please enter Yes or No\n"
     ]
    }
   ],
   "source": [
    "def yes_no():\n",
    "    ans = input(\"Enter Yes or No :\").strip()\n",
    "    if ans.upper() == \"YES\":\n",
    "        print(\"You typed Yes\")\n",
    "    elif ans.upper() == \"NO\":\n",
    "        print(\"You typed No\")\n",
    "    else:\n",
    "        print(\"Please enter Yes or No\")\n",
    "        \n",
    "yes_no()"
   ]
  },
  {
   "cell_type": "code",
   "execution_count": 24,
   "metadata": {},
   "outputs": [
    {
     "name": "stdout",
     "output_type": "stream",
     "text": [
      "Enter your wage: hghjghj\n",
      "Daily wage is :  2000\n"
     ]
    }
   ],
   "source": [
    "wage = input(\"Enter your wage: \")\n",
    "if wage.isdigit():\n",
    "    wage = int(wage)\n",
    "else:\n",
    "    wage = 250\n",
    "\n",
    "print(\"Daily wage is : \",wage * 8 )"
   ]
  },
  {
   "cell_type": "code",
   "execution_count": 42,
   "metadata": {},
   "outputs": [
    {
     "name": "stdout",
     "output_type": "stream",
     "text": [
      "Shahnaz Patel\n",
      "|Shahnaz|Patel|\n",
      "|Shahnaz   |     Patel|\n",
      "|Shahnaz   |     Patel|7.333333\n",
      "|Shahnaz   |     Patel|7.33\n",
      "|Shahnaz   |     Patel| 7.33\n"
     ]
    }
   ],
   "source": [
    "fn,ln = \"Shahnaz\", \"Patel\"\n",
    "print(fn,ln)\n",
    "fn,ln = \"Shahnaz\", \"Patel\"\n",
    "print(\"|%s|%s|\" %(fn,ln))\n",
    "fn,ln = \"Shahnaz\", \"Patel\"\n",
    "print(\"|%-10s|%10s|\" %(fn,ln))\n",
    "fn,ln = \"Shahnaz\", \"Patel\"\n",
    "print(\"|%-10s|%10s|%f\" %(fn,ln,22/3))\n",
    "fn,ln = \"Shahnaz\", \"Patel\"\n",
    "print(\"|%-10s|%10s|%0.2f\" %(fn,ln,22/3))\n",
    "fn,ln = \"Shahnaz\", \"Patel\"\n",
    "print(\"|%-10s|%10s| %0.2f\" %(fn,ln,22/3))"
   ]
  },
  {
   "cell_type": "code",
   "execution_count": 47,
   "metadata": {},
   "outputs": [
    {
     "name": "stdout",
     "output_type": "stream",
     "text": [
      "First name is\tShahnaz\n",
      "\n",
      "last name is:Patel\n",
      "last name is:Patel*****"
     ]
    }
   ],
   "source": [
    "fn,ln = \"Shahnaz\", \"Patel\"\n",
    "print(\"First name is\", fn, sep=\"\\t\", end=\"\\n\\n\") #after is theres a tab\n",
    "print(\"last name is\", ln, sep=\":\")\n",
    "print(\"last name is\", ln, sep=\":\", end=\"*****\") #we can put end as if we want"
   ]
  },
  {
   "cell_type": "code",
   "execution_count": 56,
   "metadata": {},
   "outputs": [
    {
     "data": {
      "text/plain": [
       "'abc;def;ghi'"
      ]
     },
     "execution_count": 56,
     "metadata": {},
     "output_type": "execute_result"
    }
   ],
   "source": [
    "\";\".join([\"abc\",\"def\",\"ghi\"])          # Instead of \";\" we can use any thing like :,.,'', etc. even spaces\n"
   ]
  },
  {
   "cell_type": "code",
   "execution_count": 60,
   "metadata": {},
   "outputs": [
    {
     "data": {
      "text/plain": [
       "['abc', 'def', 'ghi']"
      ]
     },
     "execution_count": 60,
     "metadata": {},
     "output_type": "execute_result"
    }
   ],
   "source": [
    "\"abc;def;ghi\".split(\";\")"
   ]
  },
  {
   "cell_type": "code",
   "execution_count": 72,
   "metadata": {},
   "outputs": [
    {
     "name": "stdout",
     "output_type": "stream",
     "text": [
      "good morning\n",
      "True\n"
     ]
    }
   ],
   "source": [
    "greet = \"good morning\"\n",
    "print(greet)\n",
    "print(greet.endswith('ing'))"
   ]
  },
  {
   "cell_type": "code",
   "execution_count": 73,
   "metadata": {},
   "outputs": [
    {
     "name": "stdout",
     "output_type": "stream",
     "text": [
      "['a.in', 'c.in', 'd.in']\n"
     ]
    }
   ],
   "source": [
    "urls=['a.in','b.ch','c.in','d.in','e.jp']\n",
    "\n",
    "print(list(filter(lambda x : x.endswith('in'),urls)))"
   ]
  },
  {
   "cell_type": "code",
   "execution_count": 5,
   "metadata": {},
   "outputs": [
    {
     "name": "stdout",
     "output_type": "stream",
     "text": [
      "['A', ' ', 'M', 'A', 'N', ',', ' ', 'A', ' ', 'P', 'L', 'A', 'N', ',', ' ', 'A', ' ', 'C', 'A', 'N', 'A', 'L', ';', ' ', 'P', 'A', 'N', 'A', 'M', 'A']\n",
      "['A', 'M', 'A', 'N', 'A', 'P', 'L', 'A', 'N', 'A', 'C', 'A', 'N', 'A', 'L', 'P', 'A', 'N', 'A', 'M', 'A']\n",
      "True\n"
     ]
    }
   ],
   "source": [
    "palindrome = 'A man, A plan, A canal; Panama'\n",
    "\n",
    "pal_list = list(palindrome.upper())\n",
    "\n",
    "print(pal_list)\n",
    "\n",
    "only_alpha = list(filter(lambda x : x.isalpha(), pal_list))\n",
    "\n",
    "print(only_alpha)\n",
    "\n",
    "palindrome_list = only_alpha == only_alpha[::-1]\n",
    "\n",
    "print(palindrome_list)"
   ]
  },
  {
   "cell_type": "code",
   "execution_count": null,
   "metadata": {},
   "outputs": [],
   "source": []
  }
 ],
 "metadata": {
  "kernelspec": {
   "display_name": "Python 3",
   "language": "python",
   "name": "python3"
  },
  "language_info": {
   "codemirror_mode": {
    "name": "ipython",
    "version": 3
   },
   "file_extension": ".py",
   "mimetype": "text/x-python",
   "name": "python",
   "nbconvert_exporter": "python",
   "pygments_lexer": "ipython3",
   "version": "3.6.5"
  }
 },
 "nbformat": 4,
 "nbformat_minor": 2
}
