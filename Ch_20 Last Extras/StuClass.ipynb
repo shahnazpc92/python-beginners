{
 "cells": [
  {
   "cell_type": "code",
   "execution_count": 6,
   "metadata": {},
   "outputs": [],
   "source": [
    "class Student:\n",
    "    def __init__(self,n,a):\n",
    "        self.name = n\n",
    "        self.age = a\n",
    "        \n",
    "    def get_age(self):\n",
    "        return self.age\n",
    "    \n",
    "    def get_name(self):\n",
    "        return self.name"
   ]
  },
  {
   "cell_type": "code",
   "execution_count": 8,
   "metadata": {},
   "outputs": [
    {
     "name": "stdout",
     "output_type": "stream",
     "text": [
      "Ajo's age is 23\n",
      "RJ's age is 22\n",
      "Ajo\n",
      "RJ\n"
     ]
    }
   ],
   "source": [
    "\n",
    "stu1 = Student(\"Ajo\",23)\n",
    "stu2 = Student(\"RJ\",22)\n",
    "\n",
    "print(stu1.name+\"'s age is\",stu1.get_age())\n",
    "print(stu2.name+\"'s age is\",stu2.get_age())\n",
    "print(stu1.get_name())\n",
    "print(stu2.get_name())\n"
   ]
  },
  {
   "cell_type": "code",
   "execution_count": 9,
   "metadata": {},
   "outputs": [],
   "source": [
    "class Student:\n",
    "    def __init__(self,n,a):\n",
    "        self.__name = n\n",
    "        self.age = a\n",
    "        \n",
    "    def get_age(self):\n",
    "        return self.age\n",
    "    \n",
    "    def get_name(self):\n",
    "        return self.__name"
   ]
  },
  {
   "cell_type": "code",
   "execution_count": 10,
   "metadata": {},
   "outputs": [
    {
     "ename": "AttributeError",
     "evalue": "'Student' object has no attribute '__name'",
     "output_type": "error",
     "traceback": [
      "\u001b[1;31m---------------------------------------------------------------------------\u001b[0m",
      "\u001b[1;31mAttributeError\u001b[0m                            Traceback (most recent call last)",
      "\u001b[1;32m<ipython-input-10-c955fbf6b83a>\u001b[0m in \u001b[0;36m<module>\u001b[1;34m()\u001b[0m\n\u001b[0;32m      2\u001b[0m \u001b[0mstu2\u001b[0m \u001b[1;33m=\u001b[0m \u001b[0mStudent\u001b[0m\u001b[1;33m(\u001b[0m\u001b[1;34m\"RJ\"\u001b[0m\u001b[1;33m,\u001b[0m\u001b[1;36m22\u001b[0m\u001b[1;33m)\u001b[0m\u001b[1;33m\u001b[0m\u001b[0m\n\u001b[0;32m      3\u001b[0m \u001b[1;33m\u001b[0m\u001b[0m\n\u001b[1;32m----> 4\u001b[1;33m \u001b[0mprint\u001b[0m\u001b[1;33m(\u001b[0m\u001b[0mstu1\u001b[0m\u001b[1;33m.\u001b[0m\u001b[0m__name\u001b[0m\u001b[1;33m+\u001b[0m\u001b[1;34m\"'s age is\"\u001b[0m\u001b[1;33m,\u001b[0m\u001b[0mstu1\u001b[0m\u001b[1;33m.\u001b[0m\u001b[0mget_age\u001b[0m\u001b[1;33m(\u001b[0m\u001b[1;33m)\u001b[0m\u001b[1;33m)\u001b[0m\u001b[1;33m\u001b[0m\u001b[0m\n\u001b[0m\u001b[0;32m      5\u001b[0m \u001b[0mprint\u001b[0m\u001b[1;33m(\u001b[0m\u001b[0mstu2\u001b[0m\u001b[1;33m.\u001b[0m\u001b[0m__name\u001b[0m\u001b[1;33m+\u001b[0m\u001b[1;34m\"'s age is\"\u001b[0m\u001b[1;33m,\u001b[0m\u001b[0mstu2\u001b[0m\u001b[1;33m.\u001b[0m\u001b[0mget_age\u001b[0m\u001b[1;33m(\u001b[0m\u001b[1;33m)\u001b[0m\u001b[1;33m)\u001b[0m\u001b[1;33m\u001b[0m\u001b[0m\n",
      "\u001b[1;31mAttributeError\u001b[0m: 'Student' object has no attribute '__name'"
     ]
    }
   ],
   "source": [
    "stu1 = Student(\"Ajo\",23)\n",
    "stu2 = Student(\"RJ\",22)\n",
    "\n",
    "print(stu1.__name+\"'s age is\",stu1.get_age())\n",
    "print(stu2.__name+\"'s age is\",stu2.get_age())\n",
    "\n",
    "\n",
    "# __name gives error"
   ]
  },
  {
   "cell_type": "code",
   "execution_count": 13,
   "metadata": {},
   "outputs": [],
   "source": [
    "class Student:\n",
    "    def __init__(self,n,a):\n",
    "        self.__name = n\n",
    "        self.age = a\n",
    "        \n",
    "    def get_age(self):\n",
    "        return self.age\n",
    "    \n",
    "    def get_name(self):\n",
    "        return self.__name\n",
    "    \n",
    "# __name is the private variable"
   ]
  },
  {
   "cell_type": "code",
   "execution_count": 16,
   "metadata": {},
   "outputs": [
    {
     "name": "stdout",
     "output_type": "stream",
     "text": [
      "Ajo's age is 23\n",
      "RJ's age is 22\n"
     ]
    }
   ],
   "source": [
    "stu1 = Student(\"Ajo\",23)\n",
    "stu2 = Student(\"RJ\",22)\n",
    "\n",
    "print(stu1.get_name()+\"'s age is\",stu1.get_age())\n",
    "print(stu2.get_name()+\"'s age is\",stu2.get_age())\n"
   ]
  },
  {
   "cell_type": "code",
   "execution_count": 17,
   "metadata": {},
   "outputs": [],
   "source": [
    "class Student:\n",
    "    def __init__(self,n,a):\n",
    "        self.__name = n\n",
    "        self.age = a\n",
    "        \n",
    "    def get_age(self):\n",
    "        return self.age\n",
    "    \n",
    "    def get_name(self):\n",
    "        return self.__name\n",
    "    \n",
    "    def inc_age(self,n):\n",
    "        self.age += n\n",
    "    \n",
    "# inc_age will incriment the age \n"
   ]
  },
  {
   "cell_type": "code",
   "execution_count": 22,
   "metadata": {},
   "outputs": [
    {
     "name": "stdout",
     "output_type": "stream",
     "text": [
      "Ajo's age is 23\n",
      "RJ's age is 22\n",
      "None\n",
      "Ajo's age is 23\n",
      "RJ's age is 24\n"
     ]
    }
   ],
   "source": [
    "stu1 = Student(\"Ajo\",23)\n",
    "stu2 = Student(\"RJ\",22)\n",
    "\n",
    "print(stu1.get_name()+\"'s age is\",stu1.get_age())\n",
    "print(stu2.get_name()+\"'s age is\",stu2.get_age())\n",
    "\n",
    "print(stu2.inc_age(2))    # Only stu2 age will be increased by 2\n",
    "print(stu1.get_name()+\"'s age is\",stu1.get_age())\n",
    "print(stu2.get_name()+\"'s age is\",stu2.get_age())"
   ]
  },
  {
   "cell_type": "code",
   "execution_count": 23,
   "metadata": {},
   "outputs": [
    {
     "name": "stdout",
     "output_type": "stream",
     "text": [
      "24\n"
     ]
    }
   ],
   "source": [
    "class Sample:\n",
    "    x = 23\n",
    "    def inc(self):\n",
    "        self.__class__.x += 1\n",
    "        \n",
    "a = Sample()\n",
    "b = Sample()\n",
    "a.inc()\n",
    "print(b.__class__.x)"
   ]
  },
  {
   "cell_type": "code",
   "execution_count": 24,
   "metadata": {},
   "outputs": [
    {
     "name": "stdout",
     "output_type": "stream",
     "text": [
      "The x is increased by 1:  24\n"
     ]
    }
   ],
   "source": [
    "class Sample:\n",
    "    x = 23\n",
    "    def inc(self):\n",
    "        self.__class__.x += 1\n",
    "        \n",
    "a = Sample()\n",
    "b = Sample()\n",
    "a.inc()\n",
    "print(\"The x is increased by 1: \",b.__class__.x)"
   ]
  },
  {
   "cell_type": "code",
   "execution_count": 26,
   "metadata": {},
   "outputs": [
    {
     "name": "stdout",
     "output_type": "stream",
     "text": [
      "The x is increased by 1:  24\n"
     ]
    }
   ],
   "source": [
    "class Sample:\n",
    "    x = 23\n",
    "    def inc(self):\n",
    "        self.__class__.x += 1\n",
    "        \n",
    "a = Sample()\n",
    "#b = Sample()\n",
    "a.inc()\n",
    "print(\"The x is increased by 1: \",Sample().__class__.x)"
   ]
  },
  {
   "cell_type": "code",
   "execution_count": 30,
   "metadata": {},
   "outputs": [
    {
     "name": "stdout",
     "output_type": "stream",
     "text": [
      "1\n",
      "3\n",
      "2\n",
      "3\n"
     ]
    }
   ],
   "source": [
    "class counter:\n",
    "    overall_total = 0\n",
    "    #class attribute\n",
    "    \n",
    "    def __init__(self):\n",
    "        self.my_total = 0\n",
    "        #data attribute\n",
    "        \n",
    "    def increment(self):\n",
    "        counter.overall_total = \\\n",
    "        counter.overall_total + 1\n",
    "        self.my_total = \\\n",
    "        self.my_total + 1\n",
    "        \n",
    "a = counter()\n",
    "b = counter()\n",
    "a.increment()\n",
    "b.increment()\n",
    "b.increment()\n",
    "\n",
    "print(a.my_total)                  # Only A's total\n",
    "print(a.__class__.overall_total)   # incrementing with a overall total\n",
    "print(b.my_total)                  # Only B's total\n",
    "print(b.__class__.overall_total)   # incrementing with b overall total"
   ]
  }
 ],
 "metadata": {
  "kernelspec": {
   "display_name": "Python 3",
   "language": "python",
   "name": "python3"
  },
  "language_info": {
   "codemirror_mode": {
    "name": "ipython",
    "version": 3
   },
   "file_extension": ".py",
   "mimetype": "text/x-python",
   "name": "python",
   "nbconvert_exporter": "python",
   "pygments_lexer": "ipython3",
   "version": "3.6.5"
  }
 },
 "nbformat": 4,
 "nbformat_minor": 2
}
