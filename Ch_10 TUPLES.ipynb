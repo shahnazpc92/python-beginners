{
 "cells": [
  {
   "cell_type": "code",
   "execution_count": 1,
   "metadata": {},
   "outputs": [
    {
     "name": "stdout",
     "output_type": "stream",
     "text": [
      "Printing the whole coordinates:- (4, 5)\n",
      "\n",
      "Printing the indexed value of coordinate:- 5\n",
      "\n",
      "Printing the whole tuples() which are inside the list[]:- [(4, 5), (3, 6), (7, 2), (33, 90)]\n",
      "\n",
      " DIFFRENCE BETWEEN TUPLES AND LISTS:-\n",
      "1. LISTS are mutable they can be changed and modified but TUPLES are immutable they can't be change and modifed\n",
      "2. TUPLES are used in plenty of times like to fix the values for permenent\n"
     ]
    }
   ],
   "source": [
    "#TUPLES\n",
    "\n",
    "coordinates = (4,5)\n",
    "print(\"Printing the whole coordinates:-\",coordinates)\n",
    "print(\"\")\n",
    "\n",
    "coordinates = (4,5)\n",
    "print(\"Printing the indexed value of coordinate:-\",coordinates[1])\n",
    "print(\"\")\n",
    "\n",
    "coordinates = [(4,5) , (3,6) , (7,2) ,(33,90)]\n",
    "print(\"Printing the whole tuples() which are inside the list[]:-\",coordinates)\n",
    "print(\"\")\n",
    "\n",
    "print(\" DIFFRENCE BETWEEN TUPLES AND LISTS:-\")\n",
    "print(\"1. LISTS are mutable they can be changed and modified but TUPLES are immutable they can't be change and modifed\")\n",
    "print(\"2. TUPLES are used in plenty of times like to fix the values for permenent\")\n"
   ]
  },
  {
   "cell_type": "code",
   "execution_count": null,
   "metadata": {},
   "outputs": [],
   "source": []
  }
 ],
 "metadata": {
  "kernelspec": {
   "display_name": "Python 3",
   "language": "python",
   "name": "python3"
  },
  "language_info": {
   "codemirror_mode": {
    "name": "ipython",
    "version": 3
   },
   "file_extension": ".py",
   "mimetype": "text/x-python",
   "name": "python",
   "nbconvert_exporter": "python",
   "pygments_lexer": "ipython3",
   "version": "3.6.5"
  }
 },
 "nbformat": 4,
 "nbformat_minor": 2
}
