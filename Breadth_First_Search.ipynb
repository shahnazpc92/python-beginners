{
 "cells": [
  {
   "cell_type": "code",
   "execution_count": 2,
   "metadata": {},
   "outputs": [
    {
     "name": "stdout",
     "output_type": "stream",
     "text": [
      "shahnaz\n"
     ]
    }
   ],
   "source": [
    "print(\"shahnaz\")"
   ]
  },
  {
   "cell_type": "code",
   "execution_count": 9,
   "metadata": {},
   "outputs": [
    {
     "name": "stdout",
     "output_type": "stream",
     "text": [
      "Following is Breadth First Traversal (starting from vertex 2)\n",
      "2 0 3 1 "
     ]
    }
   ],
   "source": [
    "# Python3 Program to print BFS traversal \n",
    "# from a given source vertex. BFS(int s) \n",
    "# traverses vertices reachable from s. \n",
    "from collections import defaultdict \n",
    "\n",
    "# This class represents a directed graph \n",
    "# using adjacency list representation \n",
    "class Graph: \n",
    "\n",
    "\t# Constructor \n",
    "\tdef __init__(self): \n",
    "\n",
    "\t\t# default dictionary to store graph \n",
    "\t\tself.graph = defaultdict(list) \n",
    "\n",
    "\t# function to add an edge to graph \n",
    "\tdef addEdge(self,u,v): \n",
    "\t\tself.graph[u].append(v) \n",
    "\n",
    "\t# Function to print a BFS of graph \n",
    "\tdef BFS(self, s): \n",
    "\n",
    "\t\t# Mark all the vertices as not visited \n",
    "\t\tvisited = [False] * (len(self.graph)) \n",
    "\n",
    "\t\t# Create a queue for BFS \n",
    "\t\tqueue = [] \n",
    "\n",
    "\t\t# Mark the source node as \n",
    "\t\t# visited and enqueue it \n",
    "\t\tqueue.append(s) \n",
    "\t\tvisited[s] = True\n",
    "\n",
    "\t\twhile queue: \n",
    "\n",
    "\t\t\t# Dequeue a vertex from \n",
    "\t\t\t# queue and print it \n",
    "\t\t\ts = queue.pop(0) \n",
    "\t\t\tprint (s, end = \" \") \n",
    "\n",
    "\t\t\t# Get all adjacent vertices of the \n",
    "\t\t\t# dequeued vertex s. If a adjacent \n",
    "\t\t\t# has not been visited, then mark it \n",
    "\t\t\t# visited and enqueue it \n",
    "\t\t\tfor i in self.graph[s]: \n",
    "\t\t\t\tif visited[i] == False: \n",
    "\t\t\t\t\tqueue.append(i) \n",
    "\t\t\t\t\tvisited[i] = True\n",
    "\n",
    "# Driver code \n",
    "\n",
    "# Create a graph given in \n",
    "# the above diagram \n",
    "g = Graph() \n",
    "g.addEdge(0, 1) \n",
    "g.addEdge(0, 2) \n",
    "g.addEdge(1, 2) \n",
    "g.addEdge(2, 0) \n",
    "g.addEdge(2, 3) \n",
    "g.addEdge(3, 3) \n",
    "\n",
    "print (\"Following is Breadth First Traversal (starting from vertex 2)\") \n",
    "g.BFS(2) \n",
    "\n",
    "# This code is contributed by Neelam Yadav \n"
   ]
  },
  {
   "cell_type": "code",
   "execution_count": 10,
   "metadata": {},
   "outputs": [
    {
     "name": "stdout",
     "output_type": "stream",
     "text": [
      "Following is DFS from (starting from vertex 2)\n",
      "2 0 1 3 "
     ]
    }
   ],
   "source": [
    "# Python3 program to print DFS traversal \n",
    "# from a given given graph \n",
    "from collections import defaultdict \n",
    "\n",
    "# This class represents a directed graph using \n",
    "# adjacency list representation \n",
    "class Graph: \n",
    "\n",
    "\t# Constructor \n",
    "\tdef __init__(self): \n",
    "\n",
    "\t\t# default dictionary to store graph \n",
    "\t\tself.graph = defaultdict(list) \n",
    "\n",
    "\t# function to add an edge to graph \n",
    "\tdef addEdge(self, u, v): \n",
    "\t\tself.graph[u].append(v) \n",
    "\n",
    "\t# A function used by DFS \n",
    "\tdef DFSUtil(self, v, visited): \n",
    "\n",
    "\t\t# Mark the current node as visited \n",
    "\t\t# and print it \n",
    "\t\tvisited[v] = True\n",
    "\t\tprint(v, end = ' ') \n",
    "\n",
    "\t\t# Recur for all the vertices \n",
    "\t\t# adjacent to this vertex \n",
    "\t\tfor i in self.graph[v]: \n",
    "\t\t\tif visited[i] == False: \n",
    "\t\t\t\tself.DFSUtil(i, visited) \n",
    "\n",
    "\t# The function to do DFS traversal. It uses \n",
    "\t# recursive DFSUtil() \n",
    "\tdef DFS(self, v): \n",
    "\n",
    "\t\t# Mark all the vertices as not visited \n",
    "\t\tvisited = [False] * (len(self.graph)) \n",
    "\n",
    "\t\t# Call the recursive helper function \n",
    "\t\t# to print DFS traversal \n",
    "\t\tself.DFSUtil(v, visited) \n",
    "\n",
    "# Driver code \n",
    "\n",
    "# Create a graph given \n",
    "# in the above diagram \n",
    "g = Graph() \n",
    "g.addEdge(0, 1) \n",
    "g.addEdge(0, 2) \n",
    "g.addEdge(1, 2) \n",
    "g.addEdge(2, 0) \n",
    "g.addEdge(2, 3) \n",
    "g.addEdge(3, 3) \n",
    "\n",
    "print(\"Following is DFS from (starting from vertex 2)\") \n",
    "g.DFS(2) \n",
    "\n",
    "# This code is contributed by Neelam Yadav \n"
   ]
  },
  {
   "cell_type": "code",
   "execution_count": 11,
   "metadata": {},
   "outputs": [
    {
     "name": "stdout",
     "output_type": "stream",
     "text": [
      "Steps: \n",
      "0 0\n",
      "4 0\n",
      "4 3\n",
      "0 3\n",
      "3 0\n",
      "3 3\n",
      "4 2\n",
      "0 2\n"
     ]
    },
    {
     "data": {
      "text/plain": [
       "True"
      ]
     },
     "execution_count": 11,
     "metadata": {},
     "output_type": "execute_result"
    }
   ],
   "source": [
    "# This function is used to initialize the \n",
    "# dictionary elements with a default value. \n",
    "from collections import defaultdict \n",
    "\n",
    "# jug1 and jug2 contain the value \n",
    "# for max capacity in respective jugs \n",
    "# and aim is the amount of water to be measured. \n",
    "jug1, jug2, aim = 4, 3, 2\n",
    "\n",
    "# Initialize dictionary with \n",
    "# default value as false. \n",
    "visited = defaultdict(lambda: False) \n",
    "\n",
    "# Recursive function which prints the \n",
    "# intermediate steps to reach the final \n",
    "# solution and return boolean value \n",
    "# (True if solution is possible, otherwise False). \n",
    "# amt1 and amt2 are the amount of water present \n",
    "# in both jugs at a certain point of time. \n",
    "def waterJugSolver(amt1, amt2): \n",
    "\n",
    "\t# Checks for our goal and \n",
    "\t# returns true if achieved. \n",
    "\tif (amt1 == aim and amt2 == 0) or (amt2 == aim and amt1 == 0): \n",
    "\t\tprint(amt1, amt2) \n",
    "\t\treturn True\n",
    "\t\n",
    "\t# Checks if we have already visited the \n",
    "\t# combination or not. If not, then it proceeds further. \n",
    "\tif visited[(amt1, amt2)] == False: \n",
    "\t\tprint(amt1, amt2) \n",
    "\t\n",
    "\t\t# Changes the boolean value of \n",
    "\t\t# the combination as it is visited. \n",
    "\t\tvisited[(amt1, amt2)] = True\n",
    "\t\n",
    "\t\t# Check for all the 6 possibilities and \n",
    "\t\t# see if a solution is found in any one of them. \n",
    "\t\treturn (waterJugSolver(0, amt2) or\n",
    "\t\t\t\twaterJugSolver(amt1, 0) or\n",
    "\t\t\t\twaterJugSolver(jug1, amt2) or\n",
    "\t\t\t\twaterJugSolver(amt1, jug2) or\n",
    "\t\t\t\twaterJugSolver(amt1 + min(amt2, (jug1-amt1)), \n",
    "\t\t\t\tamt2 - min(amt2, (jug1-amt1))) or\n",
    "\t\t\t\twaterJugSolver(amt1 - min(amt1, (jug2-amt2)), \n",
    "\t\t\t\tamt2 + min(amt1, (jug2-amt2)))) \n",
    "\t\n",
    "\t# Return False if the combination is \n",
    "\t# already visited to avoid repetition otherwise \n",
    "\t# recursion will enter an infinite loop. \n",
    "\telse: \n",
    "\t\treturn False\n",
    "\n",
    "print(\"Steps: \") \n",
    "\n",
    "# Call the function and pass the \n",
    "# initial amount of water present in both jugs. \n",
    "waterJugSolver(0, 0) \n"
   ]
  },
  {
   "cell_type": "code",
   "execution_count": 16,
   "metadata": {},
   "outputs": [
    {
     "name": "stdout",
     "output_type": "stream",
     "text": [
      "Enter the Number: 2\n",
      "2 * 1 = 2\n",
      "2 * 2 = 4\n",
      "2 * 3 = 6\n",
      "2 * 4 = 8\n",
      "2 * 5 = 10\n",
      "2 * 6 = 12\n",
      "2 * 7 = 14\n",
      "2 * 8 = 16\n",
      "2 * 9 = 18\n",
      "2 * 10 = 20\n"
     ]
    }
   ],
   "source": [
    "num = int(input(\"Enter the Number: \"))\n",
    "\n",
    "for i in range(1,11):\n",
    "    \n",
    "    print(\"{} * {} = {}\".format(num,i,num*i))\n"
   ]
  },
  {
   "cell_type": "code",
   "execution_count": 23,
   "metadata": {},
   "outputs": [
    {
     "name": "stdout",
     "output_type": "stream",
     "text": [
      "Enter the Factorial number: 6\n",
      "The factorial of  6  is:  1\n",
      "The factorial of  6  is:  2\n",
      "The factorial of  6  is:  6\n",
      "The factorial of  6  is:  24\n",
      "The factorial of  6  is:  120\n",
      "The factorial of  6  is:  720\n"
     ]
    }
   ],
   "source": [
    "num = int(input(\"Enter the Factorial number: \"))\n",
    "\n",
    "fact = 1\n",
    "\n",
    "for i in range(1,num+1):\n",
    "    fact = fact * i\n",
    "    print(\"The factorial of \" ,num, \" is: \",fact)"
   ]
  },
  {
   "cell_type": "code",
   "execution_count": 24,
   "metadata": {},
   "outputs": [
    {
     "name": "stdout",
     "output_type": "stream",
     "text": [
      "Enter the number: 5\n",
      "5 * 1 = 5\n",
      "5 * 2 = 10\n",
      "5 * 3 = 15\n",
      "5 * 4 = 20\n",
      "5 * 5 = 25\n",
      "5 * 6 = 30\n",
      "5 * 7 = 35\n",
      "5 * 8 = 40\n",
      "5 * 9 = 45\n",
      "5 * 10 = 50\n"
     ]
    }
   ],
   "source": [
    "num = int(input(\"Enter the number: \"))\n",
    "\n",
    "for i in range(1,11):\n",
    "    print(\"{} * {} = {}\".format(num,i,num*i))"
   ]
  },
  {
   "cell_type": "code",
   "execution_count": 26,
   "metadata": {},
   "outputs": [
    {
     "name": "stdout",
     "output_type": "stream",
     "text": [
      "Enter number: 5\n",
      "Factorial is : 1\n",
      "Factorial is : 2\n",
      "Factorial is : 6\n",
      "Factorial is : 24\n",
      "Factorial is : 120\n"
     ]
    }
   ],
   "source": [
    "num = int(input(\"Enter number: \"))\n",
    "\n",
    "fact = 1\n",
    "\n",
    "for i in range(1,num+1):\n",
    "    fact = fact * i\n",
    "    print(\"Factorial is :\",fact)"
   ]
  },
  {
   "cell_type": "code",
   "execution_count": 27,
   "metadata": {},
   "outputs": [
    {
     "name": "stdout",
     "output_type": "stream",
     "text": [
      "Enter number: 2\n",
      "2 * 1 = 2\n",
      "2 * 2 = 4\n",
      "2 * 3 = 6\n",
      "2 * 4 = 8\n",
      "2 * 5 = 10\n",
      "2 * 6 = 12\n",
      "2 * 7 = 14\n",
      "2 * 8 = 16\n",
      "2 * 9 = 18\n",
      "2 * 10 = 20\n"
     ]
    }
   ],
   "source": [
    "num = int(input(\"Enter number: \"))\n",
    "\n",
    "for i in range(1,11):\n",
    "    print(\"{} * {} = {}\".format(num,i,num*i))"
   ]
  },
  {
   "cell_type": "code",
   "execution_count": 29,
   "metadata": {},
   "outputs": [
    {
     "name": "stdout",
     "output_type": "stream",
     "text": [
      "Enter radius :2\n",
      "Area of Circle is:  12.56\n"
     ]
    }
   ],
   "source": [
    "num = int(input(\"Enter radius :\"))\n",
    "r = num * num\n",
    "pi = 3.14\n",
    "area = pi * r\n",
    "print(\"Area of Circle is: \",area)"
   ]
  },
  {
   "cell_type": "code",
   "execution_count": 57,
   "metadata": {},
   "outputs": [
    {
     "name": "stdout",
     "output_type": "stream",
     "text": [
      "Enter number:1\n",
      "Number is not prime\n"
     ]
    }
   ],
   "source": [
    "num = int(input(\"Enter number:\"))\n",
    "\n",
    "if num > 1:\n",
    "    for i in range(2,num):\n",
    "        if num % i == 0:\n",
    "            print(\"Number is not prime\")\n",
    "            break    \n",
    "            \n",
    "        else:\n",
    "            print(\"Number is prime\")\n",
    "            break\n",
    "else:\n",
    "    \n",
    "    print(\"Number is not prime\")"
   ]
  },
  {
   "cell_type": "code",
   "execution_count": 58,
   "metadata": {},
   "outputs": [
    {
     "name": "stdout",
     "output_type": "stream",
     "text": [
      "Enter number 1: 2\n",
      "Enter number 2: 5\n",
      "Addition is 7\n",
      "Substraction is -3\n",
      "Multiplication is 10\n",
      "Division is 0.4\n"
     ]
    }
   ],
   "source": [
    "num1 = int(input(\"Enter number 1: \"))\n",
    "num2 = int(input(\"Enter number 2: \"))\n",
    "\n",
    "Add = num1 + num2\n",
    "Sub = num1 - num2\n",
    "Mult = num1 * num2\n",
    "Div = num1 / num2\n",
    "\n",
    "print(\"Addition is\",Add)\n",
    "print(\"Substraction is\",Sub)\n",
    "print(\"Multiplication is\",Mult)\n",
    "print(\"Division is\",Div)"
   ]
  },
  {
   "cell_type": "code",
   "execution_count": 67,
   "metadata": {},
   "outputs": [
    {
     "name": "stdout",
     "output_type": "stream",
     "text": [
      "Enter number: -5\n",
      "Number is -ve\n"
     ]
    }
   ],
   "source": [
    "num = int(input(\"Enter number: \"))\n",
    "\n",
    "if num >= 0:\n",
    "    print(\"Number is Positive\")\n",
    "else:\n",
    "    print(\"Number is -ve\")\n"
   ]
  },
  {
   "cell_type": "code",
   "execution_count": 85,
   "metadata": {},
   "outputs": [
    {
     "name": "stdout",
     "output_type": "stream",
     "text": [
      "Nested List [1, 22, 3, ['a', 'b', 'v'], ['MCS', 'One', 'Two', 3]]\n",
      "Length of list:  5\n",
      "Concatenation:  [1, 2, 3, 4, 5, 'a', 'b', 'c', 'd', 'e']\n",
      "membership in:  True\n",
      "a\n",
      "b\n",
      "c\n",
      "d\n",
      "e\n",
      "INDEXING ['a', 'b', 'v']\n",
      "Indexing 2 MCS\n",
      "Slicing [3, ['a', 'b', 'v']]\n"
     ]
    }
   ],
   "source": [
    "L1 = [1,2,3,4,5]\n",
    "L2 = ['a','b','c','d','e']\n",
    "L3 = [6,7,'f','g','h8']\n",
    "\n",
    "Nested_List = [1,22,3,['a','b','v'],['MCS','One','Two',3]]\n",
    "print(\"Nested List\",Nested_List)\n",
    "\n",
    "print(\"Length of list: \",len(L2))\n",
    "\n",
    "print(\"Concatenation: \", L1+L2)\n",
    "\n",
    "member = 'z' not in L2\n",
    "print(\"membership in: \",member)\n",
    "\n",
    "for i in L2:\n",
    "    print(i)\n",
    "    \n",
    "print(\"INDEXING\",Nested_List[3])\n",
    "print(\"Indexing 2\",Nested_List[4][0])\n",
    "print(\"Slicing\", Nested_List[2:4])"
   ]
  },
  {
   "cell_type": "code",
   "execution_count": 103,
   "metadata": {},
   "outputs": [
    {
     "name": "stdout",
     "output_type": "stream",
     "text": [
      "[1, 2, 3, 4, 5, 6]\n",
      "['a', 'b', 'c', 5, 'd', 'e']\n",
      "[1, 2, 3, 4, 5, 6, 1786]\n",
      "[1, 2, 3, 4, 5, 6, 1786, 'a', 'b', 'c', 5, 'd', 'e']\n",
      "[1, 2, 3, 4, 5, 1786, 'a', 'b', 'c', 5, 'd', 'e']\n",
      "[1, 2, 3, 4, 5, 1786, 'a', 'b', 'c', 5, 'd', 'e']\n",
      "['e', 'd', 5, 'c', 'b', 'a', 1786, 5, 4, 3, 2, 1]\n",
      "['e', 'd', 5, 'c', 'b', 'a', 1786, 5, 4, 3, 2]\n",
      "['e', 'd', 5, 'c', 'b', 'a', 1786, 5, 4, 3]\n"
     ]
    }
   ],
   "source": [
    "L1 = [1,2,3,4,6]\n",
    "L2 = ['a','b','c','d','e']\n",
    "\n",
    "L1.insert(4,5)\n",
    "print(L1)\n",
    "\n",
    "L2.insert(3,5)\n",
    "print(L2)\n",
    "\n",
    "L1.append(1786)\n",
    "print(L1)\n",
    "\n",
    "L1.extend(L2)\n",
    "print(L1)\n",
    "\n",
    "L1.remove(6)\n",
    "print(L1)\n",
    "\n",
    "print(L1)\n",
    "L1.reverse()\n",
    "print(L1)\n",
    "\n",
    "L1.pop()\n",
    "print(L1)\n",
    "\n",
    "L1.pop()\n",
    "print(L1) \n",
    "\n",
    "del L2"
   ]
  },
  {
   "cell_type": "code",
   "execution_count": 108,
   "metadata": {},
   "outputs": [
    {
     "name": "stdout",
     "output_type": "stream",
     "text": [
      "Union {1, 2, 3, 4, 5, 6}\n",
      "Intersection {2, 3}\n",
      "Diffrence {1, 4}\n",
      "Symmetric difference {1, 4, 5, 6}\n"
     ]
    }
   ],
   "source": [
    "a = {1,2,3,4}\n",
    "b = {2,3,5,3,5,6}\n",
    "\n",
    "print(\"Union\",a.union(b) )\n",
    "print(\"Intersection\", a.intersection(b))\n",
    "print(\"Diffrence\",a-b)\n",
    "print(\"Symmetric difference\", a^b)"
   ]
  },
  {
   "cell_type": "code",
   "execution_count": 111,
   "metadata": {},
   "outputs": [
    {
     "name": "stdout",
     "output_type": "stream",
     "text": [
      "Length: 4\n",
      "b: 6\n",
      "h: 7\n",
      "Area of Triangle is:  84.0\n"
     ]
    }
   ],
   "source": [
    "l = int(input(\"Length: \"))\n",
    "b = int(input(\"b: \"))\n",
    "h = int(input(\"h: \"))\n",
    "area = (1/2) * l * b * h\n",
    "\n",
    "print(\"Area of Triangle is: \", area)"
   ]
  },
  {
   "cell_type": "code",
   "execution_count": 113,
   "metadata": {},
   "outputs": [
    {
     "name": "stdout",
     "output_type": "stream",
     "text": [
      "num 1: 34\n",
      "num 2: 45\n",
      "swap (45, 34)\n"
     ]
    }
   ],
   "source": [
    "a = int(input(\"num 1: \"))\n",
    "b = int(input(\"num 2: \"))\n",
    "\n",
    "swap = b,a\n",
    "print(\"swap\", swap)"
   ]
  },
  {
   "cell_type": "code",
   "execution_count": 115,
   "metadata": {},
   "outputs": [
    {
     "name": "stdout",
     "output_type": "stream",
     "text": [
      "num 1: 23\n",
      "number is +ve\n"
     ]
    }
   ],
   "source": [
    "a = int(input(\"num 1: \"))\n",
    "\n",
    "if a >= 0:\n",
    "    print(\"number is +ve\")\n",
    "else:\n",
    "    print(\"-Ve num\")"
   ]
  },
  {
   "cell_type": "code",
   "execution_count": 116,
   "metadata": {},
   "outputs": [
    {
     "name": "stdout",
     "output_type": "stream",
     "text": [
      "21\n"
     ]
    }
   ],
   "source": [
    "fib = [0,1]\n",
    "\n",
    "def fibonaci(n):\n",
    "    if n < 0:\n",
    "        print(\"incorrect num\")\n",
    "    elif n <= len(fib):\n",
    "        return fib[n-1]\n",
    "    else:\n",
    "        temp = fibonaci(n-1) + fibonaci(n-2)\n",
    "        fib.append(temp)\n",
    "        \n",
    "        return temp\n",
    "print(fibonaci(9))"
   ]
  },
  {
   "cell_type": "code",
   "execution_count": null,
   "metadata": {},
   "outputs": [],
   "source": []
  },
  {
   "cell_type": "code",
   "execution_count": null,
   "metadata": {},
   "outputs": [],
   "source": [
    "import random\n",
    "greet = ['hi','HI','Hello','HELLO','Hey']\n",
    "\n",
    "rand = random.choice(greet)\n",
    "\n",
    "Q = ['how are u','hw r u', 'how are you?']\n",
    "\n",
    "Response = ['im fine', 'fine', 'hmmm fine']\n",
    "rand_Q =random.choice(Response)\n",
    "\n",
    "while True:\n",
    "    user = input(\">>>> \")\n",
    "    \n",
    "    if user in greet:\n",
    "        print(\">> \",rand)\n",
    "    elif user in Q:\n",
    "        print(rand_Q)\n",
    "    else:\n",
    "        print(\"not getting\")"
   ]
  },
  {
   "cell_type": "code",
   "execution_count": null,
   "metadata": {},
   "outputs": [],
   "source": []
  }
 ],
 "metadata": {
  "kernelspec": {
   "display_name": "Python 3",
   "language": "python",
   "name": "python3"
  },
  "language_info": {
   "codemirror_mode": {
    "name": "ipython",
    "version": 3
   },
   "file_extension": ".py",
   "mimetype": "text/x-python",
   "name": "python",
   "nbconvert_exporter": "python",
   "pygments_lexer": "ipython3",
   "version": "3.6.5"
  }
 },
 "nbformat": 4,
 "nbformat_minor": 2
}
