{
 "cells": [
  {
   "cell_type": "code",
   "execution_count": 4,
   "metadata": {},
   "outputs": [
    {
     "name": "stdout",
     "output_type": "stream",
     "text": [
      "li3==li1 True\n",
      "li3 is li1 False\n",
      "li2==li1 True\n",
      "li2 is li1 True\n"
     ]
    }
   ],
   "source": [
    "tu1=(12,-1.3,'we',['po',31],'ty',4,-4.11)\n",
    "li1=[11,7.1,'io',-9,('df',6),'yu',-6,-7.1]\n",
    "\n",
    "li2=li1 #Shallow copy, creates new referenece\n",
    "li3=li1[:] #Deep copy, Creates new object\n",
    "print(\"li3==li1\", li3==li1)\n",
    "print(\"li3 is li1\", li3 is li1)\n",
    "\n",
    "print(\"li2==li1\",li2==li1)\n",
    "print(\"li2 is li1\",li2 is li1)"
   ]
  },
  {
   "cell_type": "code",
   "execution_count": 11,
   "metadata": {},
   "outputs": [
    {
     "name": "stdout",
     "output_type": "stream",
     "text": [
      "True\n",
      "True\n"
     ]
    }
   ],
   "source": [
    "x,y,z=5,10,15\n",
    "print(x>6 or (y<12 and z>14))\n",
    "print(x<6 or (y>12 and z<14))"
   ]
  },
  {
   "cell_type": "code",
   "execution_count": 21,
   "metadata": {},
   "outputs": [
    {
     "name": "stdout",
     "output_type": "stream",
     "text": [
      "Enter Name:naha\n",
      "Hello naha\n",
      "Enter wage87\n",
      "Daily wage is 8787878787878787\n",
      "Enter wage67\n",
      "Daily wage is 536\n",
      "Low\n"
     ]
    }
   ],
   "source": [
    "name= input(\"Enter Name:\") #input is the keyword which accepts value\n",
    "print(\"Hello\",name)\n",
    "wage1= input(\"Enter wage\")  #Here i didnt put 'int' so it'll generate 8 times the wages in string datatype\n",
    "print(\"Daily wage is\",wage1*8)\n",
    "\n",
    "wage= int(input(\"Enter wage\")) #In this 'int' has been written so it'll multiply it and if we dont put int it'll generate string\n",
    "print(\"Daily wage is\",wage*8)\n",
    "print(\"high\" if wage>2000 else \"Low\") #this is the if else statement"
   ]
  },
  {
   "cell_type": "code",
   "execution_count": 1,
   "metadata": {},
   "outputs": [
    {
     "name": "stdout",
     "output_type": "stream",
     "text": [
      "Enter the value of X: 2\n",
      "X is 2\n",
      "Program has been ENDED\n"
     ]
    }
   ],
   "source": [
    "x=int(input(\"Enter the value of X: \"))\n",
    "if x==2:\n",
    "    print (\"X is 2\")\n",
    "elif x==3:            #this is elseif statement\n",
    "    print(\"X is 3\")\n",
    "else:\n",
    "    print(\"X is neither 2 nor 3\")\n",
    "\n",
    "print(\"Program has been ENDED\")"
   ]
  },
  {
   "cell_type": "code",
   "execution_count": 4,
   "metadata": {},
   "outputs": [
    {
     "name": "stdout",
     "output_type": "stream",
     "text": [
      "Enter name:fff\n",
      "Enter wage:8000\n",
      "Wage is HIGH\n",
      "Thank You For Using Our Programme\n"
     ]
    }
   ],
   "source": [
    "name=input(\"Enter name:\")\n",
    "wage=int(input(\"Enter wage:\"))\n",
    "if wage<1000:\n",
    "    print(\"Wage is LOW\")\n",
    "elif wage<2500:\n",
    "    print(\"Wage is Moderate\")\n",
    "else:\n",
    "    print(\"Wage is HIGH\")\n",
    "print(\"Thank You For Using Our Programme\")"
   ]
  },
  {
   "cell_type": "code",
   "execution_count": 1,
   "metadata": {},
   "outputs": [
    {
     "name": "stdout",
     "output_type": "stream",
     "text": [
      "3 Still in the loop\n",
      "4 Still in the loop\n"
     ]
    }
   ],
   "source": [
    "x=3\n",
    "while x<5:\n",
    "    print(x,\"Still in the loop\")\n",
    "    x=x+1\n",
    "    \n",
    "x=6\n",
    "while x<5:\n",
    "    print(x,\"In the loop\")  "
   ]
  },
  {
   "cell_type": "code",
   "execution_count": 8,
   "metadata": {},
   "outputs": [
    {
     "name": "stdout",
     "output_type": "stream",
     "text": [
      "Continue\n",
      "Continue\n",
      "Continue\n",
      "Continue\n",
      "i is 5\n",
      "i is 6\n",
      "i is 7\n",
      "i is 8\n",
      "Break\n"
     ]
    }
   ],
   "source": [
    "i=0\n",
    "while i<10:\n",
    "    i+=1\n",
    "    if i<=4:\n",
    "        print(\"Continue\")\n",
    "        continue\n",
    "    print(\"i is\",i)\n",
    "    if i>=8:\n",
    "        print(\"Break\")\n",
    "        break"
   ]
  },
  {
   "cell_type": "code",
   "execution_count": 10,
   "metadata": {},
   "outputs": [
    {
     "name": "stdout",
     "output_type": "stream",
     "text": [
      "H\n",
      "e\n",
      "l\n",
      "l\n",
      "o\n",
      " \n",
      "W\n",
      "o\n",
      "r\n",
      "l\n",
      "d\n"
     ]
    }
   ],
   "source": [
    "for someChar in \"Hello World\":\n",
    "    print (someChar)"
   ]
  },
  {
   "cell_type": "code",
   "execution_count": 17,
   "metadata": {},
   "outputs": [
    {
     "name": "stdout",
     "output_type": "stream",
     "text": [
      "a 1\n",
      "b 6\n",
      "c 3\n",
      "d 4\n"
     ]
    }
   ],
   "source": [
    "for (x,y) in [('a',1),('b',6),('c',3),('d',4)]:\n",
    "    print(x,y)"
   ]
  },
  {
   "cell_type": "code",
   "execution_count": 13,
   "metadata": {},
   "outputs": [
    {
     "name": "stdout",
     "output_type": "stream",
     "text": [
      "[0, 1, 2, 3, 4, 5, 6, 7, 8, 9]\n",
      "[10, 11, 12, 13, 14, 15, 16, 17, 18, 19]\n"
     ]
    },
    {
     "data": {
      "text/plain": [
       "[10, 12, 14, 16, 18]"
      ]
     },
     "execution_count": 13,
     "metadata": {},
     "output_type": "execute_result"
    }
   ],
   "source": [
    "print(list(range(10)))\n",
    "print(list(range(10,20)))\n",
    "(list(range(10,20,2)))  #we can put 3,5,etc instead of 2 it gives the steps of 2"
   ]
  },
  {
   "cell_type": "code",
   "execution_count": 12,
   "metadata": {},
   "outputs": [
    {
     "name": "stdout",
     "output_type": "stream",
     "text": [
      "sam 4\n",
      "marri 3\n",
      "bill 2\n"
     ]
    }
   ],
   "source": [
    "ages={\"sam\":4,\"marri\":3,\"bill\":2}\n",
    "\n",
    "for name in ages.keys():\n",
    "    print(name,ages[name])"
   ]
  },
  {
   "cell_type": "code",
   "execution_count": 10,
   "metadata": {},
   "outputs": [
    {
     "name": "stdout",
     "output_type": "stream",
     "text": [
      "a 1 jin\n",
      "b 6 jk\n",
      "c 3 v\n",
      "d 4 jim\n"
     ]
    }
   ],
   "source": [
    "for (x,y,z) in [('a',1,'jin'),('b',6,'jk'),('c',3,'v'),('d',4,'jim')]:\n",
    "    print(x,y,z)"
   ]
  },
  {
   "cell_type": "code",
   "execution_count": null,
   "metadata": {},
   "outputs": [],
   "source": [
    "user = {'fn':'Anju', 'age':26, 'pass':'some', 'ln':'savvy', 'uid':4139, 'ext':6213}\n",
    "\n",
    "for (x,y) in user.keys():\n",
    "    print((x,y),user[(x,y)])"
   ]
  },
  {
   "cell_type": "code",
   "execution_count": null,
   "metadata": {},
   "outputs": [],
   "source": []
  }
 ],
 "metadata": {
  "kernelspec": {
   "display_name": "Python 3",
   "language": "python",
   "name": "python3"
  },
  "language_info": {
   "codemirror_mode": {
    "name": "ipython",
    "version": 3
   },
   "file_extension": ".py",
   "mimetype": "text/x-python",
   "name": "python",
   "nbconvert_exporter": "python",
   "pygments_lexer": "ipython3",
   "version": "3.6.5"
  }
 },
 "nbformat": 4,
 "nbformat_minor": 2
}
