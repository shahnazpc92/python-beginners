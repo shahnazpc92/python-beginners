{
 "cells": [
  {
   "cell_type": "code",
   "execution_count": 18,
   "metadata": {},
   "outputs": [
    {
     "name": "stdout",
     "output_type": "stream",
     "text": [
      "Common Elements:- {1, 2, 3, 5, 8, 13}\n"
     ]
    }
   ],
   "source": [
    "a = [1, 1, 2, 3, 5, 8, 13, 21, 34, 55, 89]\n",
    "b = [1, 2, 3, 4, 5, 6, 7, 8, 9, 10, 11, 12, 13]\n",
    "\n",
    "s1=set(a)\n",
    "s2=set(b)\n",
    "\n",
    "print(\"Common Elements:-\",s1.intersection(s2))"
   ]
  },
  {
   "cell_type": "code",
   "execution_count": 9,
   "metadata": {},
   "outputs": [
    {
     "data": {
      "text/plain": [
       "True"
      ]
     },
     "execution_count": 9,
     "metadata": {},
     "output_type": "execute_result"
    }
   ],
   "source": [
    "a = [5, 10, 15, 20,22,21,44,90]\n",
    "\n",
    "10 in a\n"
   ]
  },
  {
   "cell_type": "code",
   "execution_count": 13,
   "metadata": {},
   "outputs": [
    {
     "data": {
      "text/plain": [
       "True"
      ]
     },
     "execution_count": 13,
     "metadata": {},
     "output_type": "execute_result"
    }
   ],
   "source": [
    "a = ['B','T','S','T','X','T']\n",
    "\n",
    "'B' in a"
   ]
  },
  {
   "cell_type": "code",
   "execution_count": 16,
   "metadata": {},
   "outputs": [
    {
     "name": "stdout",
     "output_type": "stream",
     "text": [
      "Type your name:-JJ\n",
      "Member of BTS\n"
     ]
    }
   ],
   "source": [
    "name_li=[\"KN\",\"KS\",\"MY\",\"JH\",\"PJ\",\"KT\",\"JJ\"]\n",
    "\n",
    "name=input(\"Type your name:-\")\n",
    "\n",
    "if name in name_li:\n",
    "    print(\"Member of BTS\")"
   ]
  },
  {
   "cell_type": "code",
   "execution_count": 34,
   "metadata": {},
   "outputs": [
    {
     "data": {
      "text/plain": [
       "(['a', 'b', 'c', 'd'], [10, 20, 30, 40])"
      ]
     },
     "execution_count": 34,
     "metadata": {},
     "output_type": "execute_result"
    }
   ],
   "source": [
    "li=[('a', 10), ('b', 20), ('c', 30), ('d', 40)]\n",
    "\n",
    "\n",
    "def unzip(list1):\n",
    "    nozip=[]\n",
    "    nozip2=[]\n",
    "    for (x,y) in list1:\n",
    "        nozip.append(x)\n",
    "        nozip2.append(y)\n",
    "            \n",
    "        \n",
    "    \n",
    "    return nozip,nozip2\n",
    "\n",
    "\n",
    "\n",
    "unzip(li) \n"
   ]
  },
  {
   "cell_type": "code",
   "execution_count": 38,
   "metadata": {},
   "outputs": [
    {
     "data": {
      "text/plain": [
       "(['NJ', 'KS', 'MY', 'JH', 'PJ', 'KT', 'JJ'], [94, 92, 93, 94, 95, 95, 97])"
      ]
     },
     "execution_count": 38,
     "metadata": {},
     "output_type": "execute_result"
    }
   ],
   "source": [
    "li=[('NJ',94),('KS',92),('MY',93),('JH',94),('PJ',95),('KT',95),('JJ',97)]\n",
    "\n",
    "def unzip(newlist):\n",
    "    nozip1=[]\n",
    "    nozip2=[]\n",
    "    for (a,b) in newlist:\n",
    "        nozip1.append(a)\n",
    "        nozip2.append(b)\n",
    "    return nozip1,nozip2\n",
    "\n",
    "unzip(li)"
   ]
  },
  {
   "cell_type": "code",
   "execution_count": 77,
   "metadata": {},
   "outputs": [
    {
     "name": "stdout",
     "output_type": "stream",
     "text": [
      "('NJ', 94) 0\n",
      "('KS', 92) 1\n",
      "('MY', 93) 2\n"
     ]
    },
    {
     "data": {
      "text/plain": [
       "(2, 1)"
      ]
     },
     "execution_count": 77,
     "metadata": {},
     "output_type": "execute_result"
    }
   ],
   "source": [
    "li=[('NJ',94),('KS',92),('MY',93),('JH',94),('PJ',95),('KT',95),('JJ',97)]\n",
    "\n",
    "\n",
    "def index_no(myli,val):\n",
    "    count=0\n",
    "    for var in myli:\n",
    "        print(var,count)\n",
    "        if val in var:\n",
    "            ind=var.index(val)\n",
    "            break\n",
    "        count+=1\n",
    "    return count,ind\n",
    "        \n",
    "index_no(li,93)"
   ]
  },
  {
   "cell_type": "code",
   "execution_count": 67,
   "metadata": {},
   "outputs": [
    {
     "data": {
      "text/plain": [
       "2"
      ]
     },
     "execution_count": 67,
     "metadata": {},
     "output_type": "execute_result"
    }
   ],
   "source": [
    "li=[('NJ',94),('KS',92),('MY',93),('JH',94),('PJ',95),('KT',95),('JJ',97)]\n",
    "\n",
    "li.index(('MY',93))"
   ]
  },
  {
   "cell_type": "code",
   "execution_count": null,
   "metadata": {},
   "outputs": [],
   "source": []
  }
 ],
 "metadata": {
  "kernelspec": {
   "display_name": "Python 3",
   "language": "python",
   "name": "python3"
  },
  "language_info": {
   "codemirror_mode": {
    "name": "ipython",
    "version": 3
   },
   "file_extension": ".py",
   "mimetype": "text/x-python",
   "name": "python",
   "nbconvert_exporter": "python",
   "pygments_lexer": "ipython3",
   "version": "3.6.5"
  }
 },
 "nbformat": 4,
 "nbformat_minor": 2
}
