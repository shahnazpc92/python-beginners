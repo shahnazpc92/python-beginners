{
 "cells": [
  {
   "cell_type": "code",
   "execution_count": 7,
   "metadata": {},
   "outputs": [
    {
     "name": "stdout",
     "output_type": "stream",
     "text": [
      "First line:  Hello World\n",
      "\n",
      "Rest of the lines:\n",
      "['Hi World\\n', 'Bye World']\n"
     ]
    }
   ],
   "source": [
    "# Opening, Writing, Reading and Closing the file \n",
    "\n",
    "def file_write(filename):\n",
    "    f = open(filename,\"w\")\n",
    "    f.write(\"Hello World\\n\")\n",
    "    f.write(\"Hi World\\n\")\n",
    "    f.write(\"Bye World\")\n",
    "    f.close()\n",
    "\n",
    "#file_write(\"Output.txt\")\n",
    "\n",
    "def file_read(filename):\n",
    "    f = open(filename,\"r\")\n",
    "    print(\"First line: \", f.readline())   # f.readline gives only one line while f.readlines gives all lines from the file\n",
    "    print(\"Rest of the lines:\")\n",
    "    print(f.readlines())\n",
    "    f.close()\n",
    "\n",
    "file_read(\"output.txt\")"
   ]
  },
  {
   "cell_type": "code",
   "execution_count": 8,
   "metadata": {},
   "outputs": [
    {
     "name": "stdout",
     "output_type": "stream",
     "text": [
      "First line:  Hello World\n",
      "\n",
      "Rest of the lines:\n",
      "['Hi World', 'Bye World']\n"
     ]
    }
   ],
   "source": [
    "# Removing the unwanted \\n spaces etc.\n",
    "\n",
    "def remove_new_line(x):\n",
    "    return x.strip()\n",
    "def file_read(filename):\n",
    "    f = open(filename,\"r\")\n",
    "    print(\"First line: \", f.readline())   # f.readline gives only one line while f.readlines gives all lines from the file\n",
    "    print(\"Rest of the lines:\")\n",
    "    print(list(map(remove_new_line,f.readlines())))\n",
    "    f.close()\n",
    "\n",
    "file_read(\"output.txt\")"
   ]
  },
  {
   "cell_type": "code",
   "execution_count": 27,
   "metadata": {},
   "outputs": [
    {
     "name": "stderr",
     "output_type": "stream",
     "text": [
      "File Exists \n"
     ]
    },
    {
     "ename": "SystemExit",
     "evalue": "2",
     "output_type": "error",
     "traceback": [
      "An exception has occurred, use %tb to see the full traceback.\n",
      "\u001b[1;31mSystemExit\u001b[0m\u001b[1;31m:\u001b[0m 2\n"
     ]
    },
    {
     "name": "stderr",
     "output_type": "stream",
     "text": [
      "C:\\Users\\john\\Anaconda3\\lib\\site-packages\\IPython\\core\\interactiveshell.py:2971: UserWarning: To exit: use 'exit', 'quit', or Ctrl-D.\n",
      "  warn(\"To exit: use 'exit', 'quit', or Ctrl-D.\", stacklevel=1)\n"
     ]
    }
   ],
   "source": [
    "# Raising the error for the files if they exists and cant override it\n",
    "\n",
    "import os\n",
    "import sys\n",
    "\n",
    "def file_write(filename):\n",
    "    if os.path.exists(filename):\n",
    "        sys.stderr.write(\"File Exists \\n\")\n",
    "        sys.exit(2)                          # no 2 is for the error \"The file exists already\"\n",
    "    f = open(filename,\"w\")\n",
    "    f.write(\"Hell with World\\n\")\n",
    "    f.write(\"High on World\\n\")\n",
    "    f.write(\"Bye cruel World\")\n",
    "    f.close()\n",
    "\n",
    "file_write(\"Output.txt\")    # Error is because this file already exists "
   ]
  },
  {
   "cell_type": "code",
   "execution_count": 19,
   "metadata": {},
   "outputs": [],
   "source": [
    "# It changes into the file which is Output.txt\n",
    "\n",
    "import os\n",
    "import sys\n",
    "\n",
    "def file_write(filename):\n",
    "    #if os.path.exists(filename):\n",
    "    #    sys.stderr.write(\"File Exists \\n\")\n",
    "     #   sys.exit(2)                          # no 2 is for the error \"The file exists already\"\n",
    "    f = open(filename,\"a\")\n",
    "    f.write(\"\\nHell with World\\n\")\n",
    "    f.write(\"High on World\\n\")\n",
    "    f.write(\"Bye cruel World\")\n",
    "    f.close()\n",
    "\n",
    "file_write(\"Output.txt\")  # It will not give output here it changes into the file which is Output.txt"
   ]
  },
  {
   "cell_type": "code",
   "execution_count": 22,
   "metadata": {},
   "outputs": [
    {
     "data": {
      "text/plain": [
       "'3.6.5 |Anaconda, Inc.| (default, Mar 29 2018, 13:32:41) [MSC v.1900 64 bit (AMD64)]'"
      ]
     },
     "execution_count": 22,
     "metadata": {},
     "output_type": "execute_result"
    }
   ],
   "source": [
    "sys.version\n"
   ]
  },
  {
   "cell_type": "code",
   "execution_count": 23,
   "metadata": {},
   "outputs": [
    {
     "data": {
      "text/plain": [
       "sys.version_info(major=3, minor=6, micro=5, releaselevel='final', serial=0)"
      ]
     },
     "execution_count": 23,
     "metadata": {},
     "output_type": "execute_result"
    }
   ],
   "source": [
    "sys.version_info\n"
   ]
  },
  {
   "cell_type": "code",
   "execution_count": 24,
   "metadata": {},
   "outputs": [
    {
     "data": {
      "text/plain": [
       "9223372036854775807"
      ]
     },
     "execution_count": 24,
     "metadata": {},
     "output_type": "execute_result"
    }
   ],
   "source": [
    "sys.maxsize"
   ]
  },
  {
   "cell_type": "code",
   "execution_count": 26,
   "metadata": {},
   "outputs": [
    {
     "name": "stderr",
     "output_type": "stream",
     "text": [
      "No such file or directory\n"
     ]
    },
    {
     "ename": "SystemExit",
     "evalue": "3",
     "output_type": "error",
     "traceback": [
      "An exception has occurred, use %tb to see the full traceback.\n",
      "\u001b[1;31mSystemExit\u001b[0m\u001b[1;31m:\u001b[0m 3\n"
     ]
    },
    {
     "name": "stderr",
     "output_type": "stream",
     "text": [
      "C:\\Users\\john\\Anaconda3\\lib\\site-packages\\IPython\\core\\interactiveshell.py:2971: UserWarning: To exit: use 'exit', 'quit', or Ctrl-D.\n",
      "  warn(\"To exit: use 'exit', 'quit', or Ctrl-D.\", stacklevel=1)\n"
     ]
    }
   ],
   "source": [
    "# Error is given because we are checking the file exists or not\n",
    "\n",
    "import os\n",
    "import sys\n",
    "\n",
    "def remove_new_line(x):\n",
    "    return x.strip()\n",
    "def file_read(filename):\n",
    "    if not os.path.exists(filename):    # if not is used to check the file name is there or not and throw an error\n",
    "        sys.stderr.write(\"No such file or directory\\n\")\n",
    "        sys.exit(3)\n",
    "    f = open(filename,\"r\")\n",
    "    print(\"First line: \", f.readline())   # f.readline gives only one line while f.readlines gives all lines from the file\n",
    "    print(\"Rest of the lines:\")\n",
    "    print(list(map(remove_new_line,f.readlines())))\n",
    "    f.close()\n",
    "\n",
    "file_read(\"output1.txt\")  # The below error is given because we are checking the file exists or not"
   ]
  },
  {
   "cell_type": "code",
   "execution_count": 28,
   "metadata": {},
   "outputs": [],
   "source": [
    "# LISTS and Dictionaries\n",
    "\n",
    "X,Y,Z = 43,44,45\n",
    "S = 'Spam'\n",
    "D = {'a':1,'b':2}\n",
    "L = [1,2,3]\n",
    "\n",
    "F = open('datafile.txt','w')\n",
    "F.write(S + '\\n')\n",
    "F.write('%s,%s,%s\\n' %(X,Y,Z))\n",
    "F.write(str(L) + '$' + str(D) +'\\n')\n",
    "F.close()\n",
    "\n",
    "# It gives Output in a file name called \"datafile.txt\""
   ]
  },
  {
   "cell_type": "code",
   "execution_count": 38,
   "metadata": {},
   "outputs": [],
   "source": [
    "# This gives the file in a for loop format not in the list format\n",
    "\n",
    "li1 = [89,829,33,23,11,90]\n",
    "\n",
    "def list_write(filename,mylist):\n",
    "    f = open(filename,\"w\")\n",
    "    for var in mylist:\n",
    "        f.write(str(var)+\"\\n\")\n",
    "    f.close()\n",
    "\n",
    "list_write(\"listout.txt\",li1)\n",
    "    "
   ]
  },
  {
   "cell_type": "code",
   "execution_count": 40,
   "metadata": {},
   "outputs": [
    {
     "name": "stdout",
     "output_type": "stream",
     "text": [
      "['89', '829', '33', '23', '11', '90']\n"
     ]
    }
   ],
   "source": [
    "# opening the file in READ MODE in a list format\n",
    "\n",
    "def remove_new_line(x):\n",
    "    return x.strip()\n",
    "def file_read(filename):\n",
    "    if not os.path.exists(filename):    # if not is used to check the file name is there or not and throw an error\n",
    "        sys.stderr.write(\"No such file or directory\\n\")\n",
    "        sys.exit(3)\n",
    "    f = open(filename,\"r\")\n",
    "    print(list(map(remove_new_line,f.readlines())))\n",
    "    f.close()\n",
    "\n",
    "file_read(\"listout.txt\")"
   ]
  },
  {
   "cell_type": "code",
   "execution_count": null,
   "metadata": {},
   "outputs": [],
   "source": []
  }
 ],
 "metadata": {
  "kernelspec": {
   "display_name": "Python 3",
   "language": "python",
   "name": "python3"
  },
  "language_info": {
   "codemirror_mode": {
    "name": "ipython",
    "version": 3
   },
   "file_extension": ".py",
   "mimetype": "text/x-python",
   "name": "python",
   "nbconvert_exporter": "python",
   "pygments_lexer": "ipython3",
   "version": "3.6.5"
  }
 },
 "nbformat": 4,
 "nbformat_minor": 2
}
