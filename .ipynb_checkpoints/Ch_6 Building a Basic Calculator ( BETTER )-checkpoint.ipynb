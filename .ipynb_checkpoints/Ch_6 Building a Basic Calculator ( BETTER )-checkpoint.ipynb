{
 "cells": [
  {
   "cell_type": "code",
   "execution_count": 1,
   "metadata": {},
   "outputs": [
    {
     "name": "stdout",
     "output_type": "stream",
     "text": [
      "Enter 1st no.: 3\n",
      "Enter 2nd no.: 45\n",
      "48\n",
      "Enter 3rd no.: 5\n",
      "Enter 4th no.: 4.5\n",
      "9.5\n"
     ]
    }
   ],
   "source": [
    "# Building a Basic Calculator\n",
    "\n",
    "num1 = input(\"Enter 1st no.: \")\n",
    "num2 = input(\"Enter 2nd no.: \")\n",
    "\n",
    "result = int(num1) + int(num2)    # If we didnt use the int() then python accept the no's as STRINGS\n",
    "\n",
    "print(result)\n",
    "\n",
    "num3 = input(\"Enter 3rd no.: \")\n",
    "num4 = input(\"Enter 4th no.: \")\n",
    "\n",
    "result = float(num3) + float(num4)  # The int() in Python accept the whole no's not the decimals but FLOAT can accept BOTH\n",
    "\n",
    "print(result)"
   ]
  },
  {
   "cell_type": "code",
   "execution_count": 1,
   "metadata": {},
   "outputs": [
    {
     "name": "stdout",
     "output_type": "stream",
     "text": [
      "Enter the first number: 4\n",
      "Enter the operator: /\n",
      "Enter the second number: 4\n",
      "1.0\n"
     ]
    }
   ],
   "source": [
    "# BUILDING A BETTER CALCULATOR\n",
    "\n",
    "num1 = float(input(\"Enter the first number: \"))\n",
    "op = input(\"Enter the operator: \")\n",
    "num2 = float(input(\"Enter the second number: \"))\n",
    "\n",
    "if op == \"+\":\n",
    "    print(num1 + num2)\n",
    "elif op == \"-\":\n",
    "    print(num1 - num2)\n",
    "elif op == \"/\":\n",
    "    print(num1 / num2)\n",
    "elif op == \"*\":\n",
    "    print(num1 * num2)\n",
    "else:\n",
    "    print(\"Invalid Operator\")"
   ]
  },
  {
   "cell_type": "code",
   "execution_count": null,
   "metadata": {},
   "outputs": [],
   "source": []
  }
 ],
 "metadata": {
  "kernelspec": {
   "display_name": "Python 3",
   "language": "python",
   "name": "python3"
  },
  "language_info": {
   "codemirror_mode": {
    "name": "ipython",
    "version": 3
   },
   "file_extension": ".py",
   "mimetype": "text/x-python",
   "name": "python",
   "nbconvert_exporter": "python",
   "pygments_lexer": "ipython3",
   "version": "3.6.5"
  }
 },
 "nbformat": 4,
 "nbformat_minor": 2
}
