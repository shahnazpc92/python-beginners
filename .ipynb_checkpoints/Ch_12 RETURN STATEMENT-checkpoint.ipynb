{
 "cells": [
  {
   "cell_type": "code",
   "execution_count": 1,
   "metadata": {},
   "outputs": [
    {
     "name": "stdout",
     "output_type": "stream",
     "text": [
      "None\n",
      "64\n",
      "64\n"
     ]
    },
    {
     "data": {
      "text/plain": [
       "8"
      ]
     },
     "execution_count": 1,
     "metadata": {},
     "output_type": "execute_result"
    }
   ],
   "source": [
    "# Return Statement\n",
    "\n",
    "def cube(num):\n",
    "    num * num * num\n",
    "    \n",
    "cube(3)  # It gives no output\n",
    "\n",
    "\n",
    "def cube(num):\n",
    "    num * num * num\n",
    "    \n",
    "print(cube(3)) # It gives None\n",
    "\n",
    "def cube1(num1):\n",
    "    return num1 * num1 * num1\n",
    "    \n",
    "result = cube1(4)  # Storing funct name in a variable\n",
    "print(result)\n",
    "\n",
    "\n",
    "def cube1(num1):\n",
    "    return num1 * num1 * num1\n",
    "    print(\"code\") # We've written print statement but it'll not print due to return statement as it says break out of functn\n",
    "result = cube1(4)\n",
    "print(result)\n",
    "\n",
    "def cube(num):\n",
    "    return num * num * num\n",
    "    \n",
    "cube(2) # It gives Output because we've used return statement "
   ]
  },
  {
   "cell_type": "code",
   "execution_count": null,
   "metadata": {},
   "outputs": [],
   "source": []
  }
 ],
 "metadata": {
  "kernelspec": {
   "display_name": "Python 3",
   "language": "python",
   "name": "python3"
  },
  "language_info": {
   "codemirror_mode": {
    "name": "ipython",
    "version": 3
   },
   "file_extension": ".py",
   "mimetype": "text/x-python",
   "name": "python",
   "nbconvert_exporter": "python",
   "pygments_lexer": "ipython3",
   "version": "3.6.5"
  }
 },
 "nbformat": 4,
 "nbformat_minor": 2
}
