{
 "cells": [
  {
   "cell_type": "code",
   "execution_count": 1,
   "metadata": {},
   "outputs": [
    {
     "name": "stdout",
     "output_type": "stream",
     "text": [
      "\n",
      "Jim - Salesman\n",
      "JK - Salesman\n",
      "Tae - Receptionist\n",
      "Jin - Manager\n",
      "RM - HR\n",
      "Sug - Leader\n",
      "Hope - Accountant\n",
      "\n",
      "True\n",
      "\n",
      "Jim - Salesman\n",
      "\n",
      "JK - Salesman\n",
      "\n",
      "\n",
      "['Jim - Salesman\\n', 'JK - Salesman\\n', 'Tae - Receptionist\\n', 'Jin - Manager\\n', 'RM - HR\\n', 'Sug - Leader\\n', 'Hope - Accountant']\n",
      "\n",
      "JK - Salesman\n",
      "\n",
      "\n",
      "Jim - Salesman\n",
      "\n",
      "JK - Salesman\n",
      "\n",
      "Tae - Receptionist\n",
      "\n",
      "Jin - Manager\n",
      "\n",
      "RM - HR\n",
      "\n",
      "Sug - Leader\n",
      "\n",
      "Hope - Accountant\n"
     ]
    },
    {
     "data": {
      "text/plain": [
       "<function TextIOWrapper.close()>"
      ]
     },
     "execution_count": 1,
     "metadata": {},
     "output_type": "execute_result"
    }
   ],
   "source": [
    "# READING FILES\n",
    "\n",
    "print(\"\")\n",
    "\n",
    "employee_file = open(\"employees.txt\",\"r\")\n",
    "print(employee_file.read())                    # read() spit out the information of the file\n",
    "employee_file.close\n",
    "\n",
    "print(\"\")\n",
    "\n",
    "employee_file = open(\"employees.txt\",\"r\")\n",
    "print(employee_file.readable())                 # readable() gives the value in boolean format TRUE or FALSE\n",
    "employee_file.close \n",
    "\n",
    "print(\"\")\n",
    "\n",
    "employee_file = open(\"employees.txt\",\"r\")\n",
    "print(employee_file.readline())     # readline() spit out the information of first line of the file\n",
    "print(employee_file.readline())     # readline() gives the second line.....likewise multiple lines can be done\n",
    "employee_file.close\n",
    "\n",
    "print(\"\")\n",
    "\n",
    "employee_file = open(\"employees.txt\",\"r\")\n",
    "print(employee_file.readlines())     # readlines() spit out the information in an array format \n",
    "employee_file.close\n",
    "\n",
    "print(\"\")\n",
    "\n",
    "employee_file = open(\"employees.txt\",\"r\")\n",
    "print(employee_file.readlines()[1])        # readlines()[1] gives the indexed no of an array \n",
    "employee_file.close\n",
    "\n",
    "print(\"\")\n",
    "\n",
    "employee_file = open(\"employees.txt\",\"r\")\n",
    "for employee in employee_file.readlines():   # We can use For loop  for readlines() which not give in an array format\n",
    "    print(employee)\n",
    "employee_file.close"
   ]
  },
  {
   "cell_type": "code",
   "execution_count": null,
   "metadata": {},
   "outputs": [],
   "source": [
    "# WRITING FILES"
   ]
  }
 ],
 "metadata": {
  "kernelspec": {
   "display_name": "Python 3",
   "language": "python",
   "name": "python3"
  },
  "language_info": {
   "codemirror_mode": {
    "name": "ipython",
    "version": 3
   },
   "file_extension": ".py",
   "mimetype": "text/x-python",
   "name": "python",
   "nbconvert_exporter": "python",
   "pygments_lexer": "ipython3",
   "version": "3.6.5"
  }
 },
 "nbformat": 4,
 "nbformat_minor": 2
}
