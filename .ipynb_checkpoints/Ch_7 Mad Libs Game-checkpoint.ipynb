{
 "cells": [
  {
   "cell_type": "code",
   "execution_count": 1,
   "metadata": {},
   "outputs": [
    {
     "name": "stdout",
     "output_type": "stream",
     "text": [
      "Enter color: purple\n",
      "Enter Plural Noun: Run Episode\n",
      "Enter Celebrity: Bangtan Soneondan\n",
      "\n",
      "Roses are purple\n",
      "Run Episode is Blue\n",
      "I Love Bangtan Soneondan\n"
     ]
    }
   ],
   "source": [
    "# Mad Libs Game\n",
    "\n",
    "color = input(\"Enter color: \")\n",
    "plural_noun = input(\"Enter Plural Noun: \")\n",
    "celebrity = input(\"Enter Celebrity: \")\n",
    "\n",
    "print(\"\\nRoses are \" + color)\n",
    "print( plural_noun + \" is Blue\")\n",
    "print(\"I Love \" + celebrity)"
   ]
  },
  {
   "cell_type": "code",
   "execution_count": null,
   "metadata": {},
   "outputs": [],
   "source": []
  }
 ],
 "metadata": {
  "kernelspec": {
   "display_name": "Python 3",
   "language": "python",
   "name": "python3"
  },
  "language_info": {
   "codemirror_mode": {
    "name": "ipython",
    "version": 3
   },
   "file_extension": ".py",
   "mimetype": "text/x-python",
   "name": "python",
   "nbconvert_exporter": "python",
   "pygments_lexer": "ipython3",
   "version": "3.6.5"
  }
 },
 "nbformat": 4,
 "nbformat_minor": 2
}
