{
 "cells": [
  {
   "cell_type": "code",
   "execution_count": 1,
   "metadata": {},
   "outputs": [
    {
     "name": "stdout",
     "output_type": "stream",
     "text": [
      "Enter a phrase: on the hilly road\n",
      "gn thg hglly rggd\n",
      "\n",
      "Printing with the lower case 'g' \n",
      "Enter a phrase: ON THE HILLY ROAD\n",
      "gN THg HgLLY RggD\n",
      "\n",
      "Printing with the UPPER case 'G' \n",
      "Enter a phrase: ON THE HILLY ROAD\n",
      "GN THG HGLLY RGGD\n"
     ]
    }
   ],
   "source": [
    "# BUILD A TRANSLATOR\n",
    "\n",
    "def translate(phrase):\n",
    "    translation = \"\"\n",
    "    for letter in phrase:\n",
    "        if letter in \"AEIOUaeiou\":\n",
    "            translation = translation + \"g\"\n",
    "        else:\n",
    "            translation = translation + letter\n",
    "    return translation\n",
    "\n",
    "print(translate(input(\"Enter a phrase: \")))\n",
    "\n",
    "print(\"\")\n",
    "print(\"Printing with the lower case 'g' \")\n",
    "def translate(phrase):\n",
    "    translation = \"\"\n",
    "    for letter in phrase:\n",
    "        if letter.lower() in \"aeiou\":\n",
    "            translation = translation + \"g\"\n",
    "        else:\n",
    "            translation = translation + letter\n",
    "    return translation\n",
    "\n",
    "print(translate(input(\"Enter a phrase: \")))\n",
    "\n",
    "print(\"\")\n",
    "print(\"Printing with the UPPER case 'G' \")\n",
    "def translate(phrase):\n",
    "    translation = \"\"\n",
    "    for letter in phrase:\n",
    "        if letter.lower() in \"aeiou\":\n",
    "            if letter.isupper():\n",
    "                translation = translation + \"G\"\n",
    "            else:\n",
    "                translation = translation + \"g\"\n",
    "        else:\n",
    "            translation = translation + letter\n",
    "    return translation\n",
    "\n",
    "print(translate(input(\"Enter a phrase: \")))\n"
   ]
  },
  {
   "cell_type": "code",
   "execution_count": null,
   "metadata": {},
   "outputs": [],
   "source": []
  }
 ],
 "metadata": {
  "kernelspec": {
   "display_name": "Python 3",
   "language": "python",
   "name": "python3"
  },
  "language_info": {
   "codemirror_mode": {
    "name": "ipython",
    "version": 3
   },
   "file_extension": ".py",
   "mimetype": "text/x-python",
   "name": "python",
   "nbconvert_exporter": "python",
   "pygments_lexer": "ipython3",
   "version": "3.6.5"
  }
 },
 "nbformat": 4,
 "nbformat_minor": 2
}
