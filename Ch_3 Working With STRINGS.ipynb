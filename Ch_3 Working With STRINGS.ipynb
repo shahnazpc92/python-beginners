{
 "cells": [
  {
   "cell_type": "code",
   "execution_count": 2,
   "metadata": {},
   "outputs": [
    {
     "name": "stdout",
     "output_type": "stream",
     "text": [
      "Giraffe Academy\n",
      "Giraffe \n",
      " Academy\n",
      "Giraffe\" Academy\n",
      "Giraffe\\ Academy\n",
      "\n",
      "Bangtan Sonyeondan\n",
      "\n",
      "Bangtan Sonyeondan is  BTS\n",
      "\n",
      "bangtan sonyeondan\n",
      "\n",
      "BANGTAN SONYEONDAN\n",
      "\n",
      "False\n",
      "\n",
      "True\n",
      "\n",
      "18\n",
      "\n",
      "B\n",
      "\n",
      "8\n",
      "\n",
      "BTS Sonyeondan\n"
     ]
    }
   ],
   "source": [
    "# Working With STRINGS\n",
    "\n",
    "print(\"Giraffe Academy\")\n",
    "print(\"Giraffe \\n Academy\") # \\n New line\n",
    "print(\"Giraffe\\\" Academy\")  # \\\" gives only \"\n",
    "print(\"Giraffe\\ Academy\")   # \\ gives only \\\n",
    "print(\"\")\n",
    "\n",
    "phrase= \"Bangtan Sonyeondan\"\n",
    "print(phrase)     # Strings With Variables\n",
    "print(\"\")\n",
    "\n",
    "phrase= \"Bangtan Sonyeondan\"\n",
    "print(phrase + \" is  BTS\")   # Its a concatenation it appends more strings by using + sign\n",
    "print(\"\")\n",
    "\n",
    "phrase= \"Bangtan Sonyeondan\"\n",
    "print(phrase.lower())        # Make string in Lower Case\n",
    "print(\"\")\n",
    "\n",
    "phrase= \"Bangtan Sonyeondan\"\n",
    "print(phrase.upper())        # Make string in Upper Case\n",
    "print(\"\")\n",
    "\n",
    "phrase= \"Bangtan Sonyeondan\"\n",
    "print(phrase.isupper())      # Check string is in Upeer Case is it is then return TRUE or FALSE\n",
    "print(\"\")\n",
    "\n",
    "phrase= \"Bangtan Sonyeondan\"\n",
    "print(phrase.upper().isupper())  # First convert string in Upper Case then check if it is upper or not and return TRUE or False\n",
    "print(\"\")\n",
    "\n",
    "phrase= \"Bangtan Sonyeondan\"\n",
    "print(len(phrase))              # Gives the length of the strings\n",
    "print(\"\")\n",
    "\n",
    "phrase= \"Bangtan Sonyeondan\"\n",
    "print(phrase[0])               # Gives the first Character of string\n",
    "print(\"\")\n",
    "\n",
    "phrase= \"Bangtan Sonyeondan\"\n",
    "print(phrase.index(\"S\"))       # Gives the Index Value\n",
    "print(\"\")\n",
    "\n",
    "phrase= \"Bangtan Sonyeondan\"\n",
    "print(phrase.replace(\"Bangtan\", \"BTS\")) # Replace function passes 2 parameter 1 which we want to replace and 2 which is replaced.\n",
    "\n"
   ]
  },
  {
   "cell_type": "code",
   "execution_count": null,
   "metadata": {},
   "outputs": [],
   "source": []
  }
 ],
 "metadata": {
  "kernelspec": {
   "display_name": "Python 3",
   "language": "python",
   "name": "python3"
  },
  "language_info": {
   "codemirror_mode": {
    "name": "ipython",
    "version": 3
   },
   "file_extension": ".py",
   "mimetype": "text/x-python",
   "name": "python",
   "nbconvert_exporter": "python",
   "pygments_lexer": "ipython3",
   "version": "3.6.5"
  }
 },
 "nbformat": 4,
 "nbformat_minor": 2
}
