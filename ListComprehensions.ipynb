{
 "cells": [
  {
   "cell_type": "code",
   "execution_count": 4,
   "metadata": {},
   "outputs": [
    {
     "data": {
      "text/plain": [
       "[100, 121, 144, 169, 196, 225, 256, 289, 324, 361]"
      ]
     },
     "execution_count": 4,
     "metadata": {},
     "output_type": "execute_result"
    }
   ],
   "source": [
    "def square(x):\n",
    "    return x*x\n",
    "\n",
    "def even(x):\n",
    "    return 0 == x % 2\n",
    "\n",
    "list(map(square,range(10,20))) # In this list function map gives the same length of modified arguments as original list\n"
   ]
  },
  {
   "cell_type": "code",
   "execution_count": 11,
   "metadata": {},
   "outputs": [
    {
     "data": {
      "text/plain": [
       "[10, 12, 14, 16, 18]"
      ]
     },
     "execution_count": 11,
     "metadata": {},
     "output_type": "execute_result"
    }
   ],
   "source": [
    "def square(x):\n",
    "    return x*x\n",
    "\n",
    "def even(x):\n",
    "    return 0 == x % 2\n",
    "\n",
    "list(filter(even,range(10,20))) #In this the filter gives the true values of the list\n"
   ]
  },
  {
   "cell_type": "code",
   "execution_count": 17,
   "metadata": {},
   "outputs": [
    {
     "data": {
      "text/plain": [
       "[100, 144, 196, 256, 324]"
      ]
     },
     "execution_count": 17,
     "metadata": {},
     "output_type": "execute_result"
    }
   ],
   "source": [
    "def square(x):\n",
    "    return x*x\n",
    "\n",
    "def even(x):\n",
    "    return 0 == x % 2\n",
    "\n",
    "list(map(square,filter(even,range(10,20)))) #The map and filter should be written into List() or in Tuple()\n",
    "\n",
    "#List() gives the answer in [Square braces] while Tuple() gives the answer in (Paranthesis)"
   ]
  },
  {
   "cell_type": "code",
   "execution_count": 20,
   "metadata": {},
   "outputs": [
    {
     "name": "stdout",
     "output_type": "stream",
     "text": [
      "[100, 121, 144, 169, 196, 225, 256, 289, 324, 361]\n",
      "[10, 12, 14, 16, 18]\n"
     ]
    }
   ],
   "source": [
    "print(list(map(lambda x:x*x,range(10,20))))\n",
    "\n",
    "print(list(filter(lambda x:x%2==0,range(10,20))))"
   ]
  },
  {
   "cell_type": "code",
   "execution_count": 24,
   "metadata": {
    "scrolled": true
   },
   "outputs": [
    {
     "name": "stdout",
     "output_type": "stream",
     "text": [
      "[28, 29, 31, 33, 33]\n",
      "[28, 29, 31, 33, 33]\n"
     ]
    }
   ],
   "source": [
    "def add(x,y):\n",
    "    return x+y\n",
    "\n",
    "sem1=[12,11,17,14,16]\n",
    "sem2=[16,18,14,19,17]\n",
    "\n",
    "print(list(map(add,sem1,sem2))) #Using Function\n",
    "\n",
    "sem3=[12,11,17,14,16]\n",
    "sem4=[16,18,14,19,17]\n",
    "\n",
    "print(list(map(lambda x,y:x+y,sem3,sem4))) #Using Lambda"
   ]
  },
  {
   "cell_type": "code",
   "execution_count": 38,
   "metadata": {
    "scrolled": true
   },
   "outputs": [
    {
     "name": "stdout",
     "output_type": "stream",
     "text": [
      "['http://a.in', 'http://b.uk', 'http://c.sk', 'http://d.au']\n",
      "['http://a.in', 'http://b.uk', 'http://c.sk', 'http://d.au']\n"
     ]
    }
   ],
   "source": [
    "def adding(x):\n",
    "    return \"http://\"+x\n",
    "    \n",
    "urls=['a.in','b.uk','c.sk','d.au']  #Using function\n",
    "\n",
    "print(list(map(adding,urls)))\n",
    "\n",
    "urls1=['a.in','b.uk','c.sk','d.au']\n",
    "print(list(map(lambda x:'http://'+x,urls1)))  #Using lmbda"
   ]
  },
  {
   "cell_type": "code",
   "execution_count": 42,
   "metadata": {},
   "outputs": [
    {
     "name": "stdout",
     "output_type": "stream",
     "text": [
      "['http://a.in', 'http://b.uk', 'http://c.sk', 'http://d.au']\n",
      "['http://e.in', 'http://f.uk', 'http://g.sk', 'http://h.au']\n",
      "[(0, 'a.in'), (1, 'b.uk'), (2, 'c.sk'), (3, 'd.au')]\n",
      "((0, 'e.in'), (1, 'f.uk'), (2, 'g.sk'), (3, 'h.au'))\n"
     ]
    }
   ],
   "source": [
    "def adding(x):\n",
    "    return \"http://\"+x\n",
    "    \n",
    "urls=['a.in','b.uk','c.sk','d.au']  #Using function\n",
    "\n",
    "print(list(map(adding,urls)))\n",
    "\n",
    "urls1=['e.in','f.uk','g.sk','h.au']\n",
    "print(list(map(lambda x:'http://'+x,urls1)))  #Using lmbda\n",
    "\n",
    "print(list(enumerate(urls)))\n",
    "print(tuple(enumerate(urls1)))"
   ]
  },
  {
   "cell_type": "code",
   "execution_count": 49,
   "metadata": {},
   "outputs": [
    {
     "name": "stdout",
     "output_type": "stream",
     "text": [
      "[28, 29, 31, 33, 33]\n",
      "['http://e.in', 'http://f.uk', 'http://g.sk', 'http://h.au']\n",
      "[(0, 'e.in'), (1, 'f.uk'), (2, 'g.sk'), (3, 'h.au')]\n",
      "[('e.in', 16), ('f.uk', 18), ('g.sk', 14), ('h.au', 19)]\n",
      "{'e.in': 16, 'f.uk': 18, 'g.sk': 14, 'h.au': 19}\n",
      "84\n"
     ]
    }
   ],
   "source": [
    "from functools import reduce #First Define the reduce function and then use it\n",
    "\n",
    "sem3=[12,11,17,14,16]\n",
    "sem4=[16,18,14,19,17]\n",
    "\n",
    "print(list(map(lambda x,y:x+y,sem3,sem4))) #Using Lambda\n",
    "\n",
    "urls1=['e.in','f.uk','g.sk','h.au']\n",
    "print(list(map(lambda x:'http://'+x,urls1)))  #Using lmbda\n",
    "\n",
    "print(list(enumerate(urls1)))\n",
    "print(list(zip(urls1,sem4)))  #Gives the O/P as it is collide with urls1 and the list sem4\n",
    "print(dict(zip(urls1,sem4))) #Gives the O/P in dictionary format\n",
    "\n",
    "print(reduce(lambda x,y:x+y,sem4)) \n",
    "#The reduce function folds the sem3 and add all the arguments in it but it should be defined first as above"
   ]
  },
  {
   "cell_type": "code",
   "execution_count": 52,
   "metadata": {},
   "outputs": [
    {
     "name": "stdout",
     "output_type": "stream",
     "text": [
      "https://www.google.com\n"
     ]
    }
   ],
   "source": [
    "\n",
    "url='http://www.google.com'\n",
    "urllist=list(url)\n",
    "urllist.insert(4,'s')\n",
    "print(reduce(lambda x,y:x+y,urllist))"
   ]
  },
  {
   "cell_type": "code",
   "execution_count": 7,
   "metadata": {},
   "outputs": [
    {
     "data": {
      "text/plain": [
       "[6, 12, 4, 14]"
      ]
     },
     "execution_count": 7,
     "metadata": {},
     "output_type": "execute_result"
    }
   ],
   "source": [
    "li=[3,6,2,7]\n",
    "[elem*2 for elem in li]\n"
   ]
  },
  {
   "cell_type": "code",
   "execution_count": 9,
   "metadata": {},
   "outputs": [
    {
     "data": {
      "text/plain": [
       "[3, 6, 9, 12]"
      ]
     },
     "execution_count": 9,
     "metadata": {},
     "output_type": "execute_result"
    }
   ],
   "source": [
    "li2=[('a',1),('b',2),('c',3),('d',4)]\n",
    "[n*3 for (x,n) in li2] # Here instead of elem or name we have written(x,n)"
   ]
  },
  {
   "cell_type": "code",
   "execution_count": 18,
   "metadata": {},
   "outputs": [
    {
     "data": {
      "text/plain": [
       "[-3, 6, 0]"
      ]
     },
     "execution_count": 18,
     "metadata": {},
     "output_type": "execute_result"
    }
   ],
   "source": [
    "def substract(a,b):\n",
    "    return a-b\n",
    "\n",
    "oplist=[(6,3),(1,7),(5,5)]\n",
    "[substract(y,x) for (x,y) in oplist]\n"
   ]
  },
  {
   "cell_type": "code",
   "execution_count": 22,
   "metadata": {},
   "outputs": [
    {
     "data": {
      "text/plain": [
       "[36, 49, 81]"
      ]
     },
     "execution_count": 22,
     "metadata": {},
     "output_type": "execute_result"
    }
   ],
   "source": [
    "li=[3,6,2,7,1,9]\n",
    "[elem*2 for elem in li if elem>4] #elem>4 is \"filter\" so the \"if elem>4\" will execute first"
   ]
  },
  {
   "cell_type": "code",
   "execution_count": 23,
   "metadata": {},
   "outputs": [
    {
     "name": "stdout",
     "output_type": "stream",
     "text": [
      "The Zen of Python, by Tim Peters\n",
      "\n",
      "Beautiful is better than ugly.\n",
      "Explicit is better than implicit.\n",
      "Simple is better than complex.\n",
      "Complex is better than complicated.\n",
      "Flat is better than nested.\n",
      "Sparse is better than dense.\n",
      "Readability counts.\n",
      "Special cases aren't special enough to break the rules.\n",
      "Although practicality beats purity.\n",
      "Errors should never pass silently.\n",
      "Unless explicitly silenced.\n",
      "In the face of ambiguity, refuse the temptation to guess.\n",
      "There should be one-- and preferably only one --obvious way to do it.\n",
      "Although that way may not be obvious at first unless you're Dutch.\n",
      "Now is better than never.\n",
      "Although never is often better than *right* now.\n",
      "If the implementation is hard to explain, it's a bad idea.\n",
      "If the implementation is easy to explain, it may be a good idea.\n",
      "Namespaces are one honking great idea -- let's do more of those!\n"
     ]
    }
   ],
   "source": [
    "import this"
   ]
  },
  {
   "cell_type": "code",
   "execution_count": 24,
   "metadata": {},
   "outputs": [
    {
     "name": "stdout",
     "output_type": "stream",
     "text": [
      "WorkerWorker\n",
      "\n",
      "Worker\n",
      "Worker\n",
      "Worker\n"
     ]
    }
   ],
   "source": [
    "#threading_simple.py\n",
    "import threading\n",
    "\n",
    "\n",
    "def worker():\n",
    "    \"\"\"thread worker function\"\"\"\n",
    "    print('Worker')\n",
    "\n",
    "\n",
    "threads = []\n",
    "for i in range(5):\n",
    "    t = threading.Thread(target=worker)\n",
    "    threads.append(t)\n",
    "    t.start()"
   ]
  },
  {
   "cell_type": "code",
   "execution_count": null,
   "metadata": {},
   "outputs": [],
   "source": []
  }
 ],
 "metadata": {
  "kernelspec": {
   "display_name": "Python 3",
   "language": "python",
   "name": "python3"
  },
  "language_info": {
   "codemirror_mode": {
    "name": "ipython",
    "version": 3
   },
   "file_extension": ".py",
   "mimetype": "text/x-python",
   "name": "python",
   "nbconvert_exporter": "python",
   "pygments_lexer": "ipython3",
   "version": "3.6.5"
  }
 },
 "nbformat": 4,
 "nbformat_minor": 2
}
