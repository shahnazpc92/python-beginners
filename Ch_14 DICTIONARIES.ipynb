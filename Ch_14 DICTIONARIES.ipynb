{
 "cells": [
  {
   "cell_type": "code",
   "execution_count": 2,
   "metadata": {},
   "outputs": [
    {
     "name": "stdout",
     "output_type": "stream",
     "text": [
      "Monday\n",
      "\n",
      "None\n",
      "\n",
      "Not valid key\n"
     ]
    }
   ],
   "source": [
    "# DICTIONARIES\n",
    "\n",
    "WeekConversion = {\n",
    "    \"Mon\" : \"Monday\",\n",
    "    \"Tue\" : \"Tuesday\",\n",
    "    \"Wed\" : \"Wednesday\",\n",
    "    \"Thu\" : \"Thursday\",\n",
    "    \"Fri\" : \"Friday\",\n",
    "    \"Sat\" : \"Saturday\",\n",
    "    \"Sun\" : \"Sunday\"\n",
    "}\n",
    "\n",
    "print(WeekConversion[\"Mon\"])\n",
    "\n",
    "print(\"\")\n",
    "\n",
    "WeekConversion = {\n",
    "    \"Mon\" : \"Monday\",\n",
    "    \"Tue\" : \"Tuesday\",\n",
    "    \"Wed\" : \"Wednesday\",\n",
    "    \"Thu\" : \"Thursday\",\n",
    "    \"Fri\" : \"Friday\",\n",
    "    \"Sat\" : \"Saturday\",\n",
    "    \"Sun\" : \"Sunday\"\n",
    "}\n",
    "\n",
    "print(WeekConversion.get(\"jan\"))\n",
    "\n",
    "print(\"\")\n",
    "WeekConversion = {\n",
    "    \"Mon\" : \"Monday\",\n",
    "    \"Tue\" : \"Tuesday\",\n",
    "    \"Wed\" : \"Wednesday\",\n",
    "    \"Thu\" : \"Thursday\",\n",
    "    \"Fri\" : \"Friday\",\n",
    "    \"Sat\" : \"Saturday\",\n",
    "    \"Sun\" : \"Sunday\"\n",
    "}\n",
    "\n",
    "print(WeekConversion.get(\"jan\",\"Not valid key\"))\n",
    "\n",
    "print(\"\")\n",
    "WeekConversion = {\n",
    "    \"Mon\" : \"Monday\",\n",
    "    \"Tue\" : \"Tuesday\",\n",
    "    \"Wed\" : \"Wednesday\",\n",
    "    \"Thu\" : \"Thursday\",\n",
    "    \"Fri\" : \"Friday\",\n",
    "    \"Sat\" : \"Saturday\",\n",
    "    \"Sun\" : \"Sunday\"\n",
    "}\n",
    "\n",
    "print(WeekConversion.get(\"jan\",\"Not valid key\"))"
   ]
  },
  {
   "cell_type": "code",
   "execution_count": null,
   "metadata": {},
   "outputs": [],
   "source": []
  }
 ],
 "metadata": {
  "kernelspec": {
   "display_name": "Python 3",
   "language": "python",
   "name": "python3"
  },
  "language_info": {
   "codemirror_mode": {
    "name": "ipython",
    "version": 3
   },
   "file_extension": ".py",
   "mimetype": "text/x-python",
   "name": "python",
   "nbconvert_exporter": "python",
   "pygments_lexer": "ipython3",
   "version": "3.6.5"
  }
 },
 "nbformat": 4,
 "nbformat_minor": 2
}
