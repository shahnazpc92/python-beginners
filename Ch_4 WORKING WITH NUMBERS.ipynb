{
 "cells": [
  {
   "cell_type": "code",
   "execution_count": 1,
   "metadata": {},
   "outputs": [
    {
     "name": "stdout",
     "output_type": "stream",
     "text": [
      "SIMPLE OPERATIONS:-\n",
      "\n",
      "2\n",
      "8.39284385\n",
      "-9.838\n",
      "7.5\n",
      "1\n",
      "5.0\n",
      "12\n",
      "\n",
      "COMPLEX OPERATIONS:-\n",
      "\n",
      "13\n",
      "18\n",
      "1\n",
      "\n",
      "STORING NUMBERS IN VARIABLE:-\n",
      "\n",
      "5\n",
      "1127 my favorite no.\n",
      "\n",
      "USING DIFFERENT FUNCTIONS:-\n",
      "\n",
      "948 ABSOLUTE VALUE\n",
      "9 POWER 3^2\n",
      "6 MAXIMUM NO. 4,6\n",
      "4 MINIMUM NO. 4,6\n",
      "5 Round no 4.9\n",
      "\n",
      "3 It Chopps the decimal no.\n",
      "4 It gives the all round no\n",
      "6.0 Square root no.\n"
     ]
    }
   ],
   "source": [
    "# WORKING WITH NUMBERS\n",
    "\n",
    "print(\"SIMPLE OPERATIONS:-\")\n",
    "print(\"\")\n",
    "print(2)            # SIMPLE no. printing\n",
    "print(8.39284385)   # DECIMAL no. printing\n",
    "print(-9.838)       # NEGETIVE no. printing\n",
    "print(3 + 4.5)      # ADDITION of no. printing\n",
    "print(2 - 1)        # SUBSTRACTION of no. printing\n",
    "print(20 / 4)       # DIVISION of no. printing\n",
    "print(2 * 6)        # MULTIPLICATION of no. printing\n",
    "\n",
    "print(\"\")\n",
    "print(\"COMPLEX OPERATIONS:-\")\n",
    "print(\"\")\n",
    "print(2 * 4 + 5)    # MULTIPLE OPERATION of no. printing\n",
    "print(2 * (4 + 5))  # USING OF () it add first and then multiply the no.s and then print\n",
    "print(10 % 3)       # MODULUS OPERATION IT GIVES THE REMAINDER as an output\n",
    "\n",
    "print(\"\")\n",
    "print(\"STORING NUMBERS IN VARIABLE:-\")\n",
    "print(\"\")\n",
    "\n",
    "num = 5\n",
    "print(num)          # STORING the no. in a variable\n",
    "\n",
    "my_num = 1127\n",
    "print(str(my_num) + \" my favorite no.\")   # STORING the no. in a variable and coverting into string by adding strings\n",
    "\n",
    "print(\"\")\n",
    "print(\"USING DIFFERENT FUNCTIONS:-\")\n",
    "print(\"\")\n",
    "\n",
    "my_num = -948\n",
    "print(str(abs(my_num)) + \" ABSOLUTE VALUE\")   # GIVING THE ABSOLUTE VALUE BY USING abs() Function\n",
    "\n",
    "print(str(pow(3 , 2)) + \" POWER 3^2\")   # GIVING THE POWER TO THE NO. BY PASSING 2 PARAMETER & USING pow() Function\n",
    "\n",
    "print(str(max(4 , 6)) + \" MAXIMUM NO. 4,6\")   # GIVING THE MAXIMUM NO. BY PASSING 2 PARAMETER & USING max() Function\n",
    "\n",
    "print(str(min(4 , 6)) + \" MINIMUM NO. 4,6\")   # GIVING THE MINIMUM NO. BY PASSING 2 PARAMETER & USING min() Function\n",
    "\n",
    "print(str(round(4.9)) + \" Round no 4.9\")   # GIVING THE ROUND NO. by USING round() Function\n",
    "\n",
    "print(\"\")\n",
    "from math import *\n",
    "\n",
    "print(str(floor(3.7)) + \" It Chopps the decimal no.\")\n",
    "print(str(ceil(3.7)) + \" It gives the all round no\")\n",
    "print(str(sqrt(36)) + \" Square root no.\")"
   ]
  },
  {
   "cell_type": "code",
   "execution_count": null,
   "metadata": {},
   "outputs": [],
   "source": []
  }
 ],
 "metadata": {
  "kernelspec": {
   "display_name": "Python 3",
   "language": "python",
   "name": "python3"
  },
  "language_info": {
   "codemirror_mode": {
    "name": "ipython",
    "version": 3
   },
   "file_extension": ".py",
   "mimetype": "text/x-python",
   "name": "python",
   "nbconvert_exporter": "python",
   "pygments_lexer": "ipython3",
   "version": "3.6.5"
  }
 },
 "nbformat": 4,
 "nbformat_minor": 2
}
