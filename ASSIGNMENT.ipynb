{
 "cells": [
  {
   "cell_type": "code",
   "execution_count": 1,
   "metadata": {},
   "outputs": [
    {
     "name": "stdout",
     "output_type": "stream",
     "text": [
      "[12, 11, 9, 10]\n"
     ]
    }
   ],
   "source": [
    "li1=[12,11,11,9,9,9,10,12,11,10]\n",
    "def deldup(mylist):\n",
    "    nodup=[]\n",
    "    for var in mylist:\n",
    "        if var not in nodup:\n",
    "            nodup.append(var)\n",
    "    \n",
    "    #your code\n",
    "    return nodup\n",
    "\n",
    "print(deldup(li1))\n",
    "\n",
    "s1=set(li1)\n"
   ]
  },
  {
   "cell_type": "code",
   "execution_count": 10,
   "metadata": {},
   "outputs": [
    {
     "name": "stdout",
     "output_type": "stream",
     "text": [
      "{'fn': 'JK', 'uid': 197, 'ext': 209, 'pass': 'Some_pass', 'ln': 'Kalyan'}\n",
      "JK\n",
      "{'fn': 'JK', 'uid': 197, 'ext': 209, 'pass': 'new_pass', 'ln': 'Kalyan'}\n",
      "Enter Key:cell\n",
      "123456789\n"
     ]
    }
   ],
   "source": [
    "user = {'fn':'JK','uid':197,'ext':209,'pass':'Some_pass','ln':'Kalyan'}\n",
    "print(user)\n",
    "print(user['fn'])\n",
    "user['pass']='new_pass'\n",
    "print(user)\n",
    "\n",
    "user.pop('ext')\n",
    "user['cell']=123456789  #adding new key value\n",
    "\n",
    "ukey = input(\"Enter Key:\")\n",
    "if ukey in user:\n",
    "    print(user[ukey])\n",
    "else:\n",
    "    print(\"No such key\")"
   ]
  },
  {
   "cell_type": "code",
   "execution_count": 15,
   "metadata": {},
   "outputs": [
    {
     "name": "stdout",
     "output_type": "stream",
     "text": [
      "{'fn': 'JK', 'uid': 197, 'ext': 209, 'pass': 'Some_pass', 'ln': 'Kalyan'}\n",
      "JK\n",
      "{'fn': 'JK', 'uid': 197, 'ext': 209, 'pass': 'new_pass', 'ln': 'Kalyan'}\n",
      "Enter Key:fn\n",
      "JK\n"
     ]
    }
   ],
   "source": [
    "user = {'fn':'JK','uid':197,'ext':209,'pass':'Some_pass','ln':'Kalyan'}\n",
    "print(user)\n",
    "print(user['fn'])\n",
    "user['pass']='new_pass'\n",
    "print(user)\n",
    "\n",
    "user.pop('ext')\n",
    "user['cell']=123456789  #adding new key value\n",
    "\n",
    "def getval(mydict):  #Formal Parameter\n",
    "    ukey = input(\"Enter Key:\")\n",
    "    if ukey in mydict:\n",
    "        print(mydict[ukey])\n",
    "    else:\n",
    "        print(\"No such key\")\n",
    "getval(user)   #Actual Parameter\n",
    "    "
   ]
  },
  {
   "cell_type": "code",
   "execution_count": 27,
   "metadata": {},
   "outputs": [
    {
     "name": "stdout",
     "output_type": "stream",
     "text": [
      "{'fn': 'JK', 'uid': 197, 'ext': 209, 'pass': 'Some_pass', 'ln': 'Kalyan'}\n",
      "JK\n",
      "{'fn': 'JK', 'uid': 197, 'ext': 209, 'pass': 'ne_pass', 'ln': 'Kalyan'}\n",
      "Enter Key:uid\n",
      "197\n",
      "Enter the VALUES:lk\n",
      "NO such VALUES\n"
     ]
    }
   ],
   "source": [
    "user = {'fn':'JK','uid':197,'ext':209,'pass':'Some_pass','ln':'Kalyan'}\n",
    "print(user)\n",
    "print(user['fn'])\n",
    "user['pass']='ne_pass'\n",
    "print(user)\n",
    "\n",
    "user.pop('ext')\n",
    "user['cell']=123456789  #adding new key value\n",
    "\n",
    "def getval(mydict):  #Formal Parameter\n",
    "    ukey = input(\"Enter Key:\")\n",
    "    if ukey in mydict:\n",
    "        print(mydict[ukey])\n",
    "    else:\n",
    "        print(\"No such key\")\n",
    "getval(user)   #Actual Parameter\n",
    "\n",
    "def getkeys(mydict):\n",
    "    flag = 0           # we are using FLAG statement because ELSE will note generate the output well\n",
    "    val=input(\"Enter the VALUES:\")\n",
    "    for (k,v) in mydict.items():\n",
    "       if v == val:\n",
    "        print(k)\n",
    "        flag = 1\n",
    "    if flag==0:    #external if statement to generate else one\n",
    "        print(\"NO such VALUES\")\n",
    "getkeys(user)"
   ]
  },
  {
   "cell_type": "code",
   "execution_count": 20,
   "metadata": {},
   "outputs": [
    {
     "name": "stdout",
     "output_type": "stream",
     "text": [
      "dict_items([('fn', 'JK'), ('uid', 197), ('pass', 'JK'), ('ln', 'Kalyan'), ('cell', 123456789)])\n"
     ]
    }
   ],
   "source": [
    "print(user.items())\n"
   ]
  },
  {
   "cell_type": "code",
   "execution_count": 5,
   "metadata": {},
   "outputs": [
    {
     "name": "stdout",
     "output_type": "stream",
     "text": [
      "{9, 10, 11, 12}\n",
      "[2, 3, 9]\n"
     ]
    }
   ],
   "source": [
    "def deldup(mylist):\n",
    "    nodup=[]\n",
    "    for var in mylist:\n",
    "        if var not in nodup:\n",
    "            nodup.append(var)\n",
    "        \n",
    "        #your code\n",
    "        return nodup\n",
    "\n",
    "li1=[12,11,11,9,9,9,10,12,11,10]\n",
    "#print(deldup(li1)) (it generate index no. like 12 in the list)\n",
    "\n",
    "s1=set(li1)\n",
    "print(s1)\n",
    "def allindex(mylist,elem):\n",
    "    index_list = []   \n",
    "    index = 0\n",
    "    for var in mylist:\n",
    "        index += 1\n",
    "        if var == elem:\n",
    "            index_list.append(index)\n",
    "            \n",
    "    return index_list\n",
    "print(allindex(li1,11))\n",
    "\n",
    "\n",
    "# H.W  DELETE THE OCCURENCE OF NO."
   ]
  },
  {
   "cell_type": "code",
   "execution_count": 62,
   "metadata": {},
   "outputs": [
    {
     "name": "stdout",
     "output_type": "stream",
     "text": [
      "Common set of s1:- {9, 10, 11, 12}\n",
      "s1 union to s2:- {7, 9, 10, 11, 12, 15}\n",
      "s1 intersection to s2:- {9, 10}\n",
      "s1 difference to s2:- {11, 12}\n",
      "s1 symmetric_difference to s2:- {7, 11, 12, 15}\n",
      " \n",
      "Dictionaries KEY and VALUES INTERSECTION:- {'f': [7, 10], 'a': [19, 6]}\n",
      "{'f': [7, 10]}\n",
      "{'f': [7, 10], 'j': 10}\n",
      "{'f': [7, 10], 'j': 10, 'b': 6}\n",
      "{'f': [7, 10], 'j': 10, 'b': 6, 'l': 15}\n",
      "{'f': [7, 10], 'j': 10, 'b': 6, 'l': 15, 'a': [19, 6]}\n",
      "{'f': [7, 10], 'j': 10, 'b': 6, 'l': 15, 'a': [19, 6], 'k': 5}\n",
      "Dictionaries KEY and VALUES UNION:- {'f': [7, 10], 'j': 10, 'b': 6, 'l': 15, 'a': [19, 6], 'k': 5}\n"
     ]
    }
   ],
   "source": [
    "li1=[12,11,11,9,9,9,10,12,11,10]\n",
    "li2=[9,7,7,15,9,15,10,9,15,7,10]\n",
    "s1=set(li1)\n",
    "s2=set(li2)\n",
    "print(\"Common set of s1:-\",s1)\n",
    "print(\"s1 union to s2:-\",s1.union(s2))\n",
    "print(\"s1 intersection to s2:-\",s1.intersection(s2))\n",
    "print(\"s1 difference to s2:-\",s1.difference(s2))\n",
    "print(\"s1 symmetric_difference to s2:-\",s1.symmetric_difference(s2))\n",
    "\n",
    "print(\" \")\n",
    "\n",
    "\n",
    "mydict1={'a':19, 'f':7, 'j':10, 'k':5}\n",
    "mydict2={'f':10, 'b':6, 'l':15, 'a':6}\n",
    "\n",
    "def intersect(d1,d2):\n",
    "    s1=set(d1)\n",
    "    s2=set(d2)\n",
    "    result={}\n",
    "    for var in s1.intersection(s2):\n",
    "        result[var]=[d1[var],d2[var]]\n",
    "    return result\n",
    "print(\"Dictionaries KEY and VALUES INTERSECTION:-\",intersect(mydict1,mydict2))\n",
    "\n",
    "def union(d1,d2):\n",
    "    s1=set(d1)\n",
    "    s2=set(d2)\n",
    "    result1={}\n",
    "    for var in s1.union(s2):\n",
    "        if var in s1 and var in s2:\n",
    "            result1[var]=[d1[var],d2[var]]\n",
    "        elif var in s1:\n",
    "            result1[var]=d1[var]\n",
    "        else:\n",
    "            result1[var]=d2[var]\n",
    "        print(result1)\n",
    "    return result1\n",
    "print(\"Dictionaries KEY and VALUES UNION:-\",union(mydict1,mydict2))"
   ]
  },
  {
   "cell_type": "code",
   "execution_count": 9,
   "metadata": {},
   "outputs": [
    {
     "name": "stdout",
     "output_type": "stream",
     "text": [
      "{2, 4, 8, 9, 10}\n"
     ]
    }
   ],
   "source": [
    "li1 = [9,8,2,4,2,4,8,9,9,10,10]\n",
    "li2 = []\n",
    "\n",
    "for var in li1:\n",
    "    if var not in li2:\n",
    "        li2.append(var)\n",
    "    \n",
    "s1 = set(li2)\n",
    "print(s1)"
   ]
  },
  {
   "cell_type": "code",
   "execution_count": 12,
   "metadata": {},
   "outputs": [
    {
     "name": "stdout",
     "output_type": "stream",
     "text": [
      "Enter your key:-jhghg\n",
      "Invalid key\n"
     ]
    }
   ],
   "source": [
    "user = {'jk':'Junkook' , 'v':'Tae' , 'jim':'95' ,'jin':92}\n",
    "\n",
    "key = input(\"Enter your key:-\")\n",
    "\n",
    "if key in user:\n",
    "    print(user[key])\n",
    "else:\n",
    "    print(\"Invalid key\")"
   ]
  },
  {
   "cell_type": "code",
   "execution_count": 20,
   "metadata": {},
   "outputs": [
    {
     "ename": "SyntaxError",
     "evalue": "invalid syntax (<ipython-input-20-261973e2cff9>, line 6)",
     "output_type": "error",
     "traceback": [
      "\u001b[1;36m  File \u001b[1;32m\"<ipython-input-20-261973e2cff9>\"\u001b[1;36m, line \u001b[1;32m6\u001b[0m\n\u001b[1;33m    if val == str(val)\u001b[0m\n\u001b[1;37m                      ^\u001b[0m\n\u001b[1;31mSyntaxError\u001b[0m\u001b[1;31m:\u001b[0m invalid syntax\n"
     ]
    }
   ],
   "source": [
    "user = {'jk':'78' , 'v':'Tae' , 'jim':'95' ,'jin':92}\n",
    "user['pass'] = 'tae'\n",
    "key = input(\"Enter your key:-\")\n",
    "val = input(\"Enter your value\")\n",
    "for (key,val) in user.items():\n",
    "    if val == str(val)\n",
    "    print(key)\n"
   ]
  },
  {
   "cell_type": "code",
   "execution_count": null,
   "metadata": {},
   "outputs": [],
   "source": []
  }
 ],
 "metadata": {
  "kernelspec": {
   "display_name": "Python 3",
   "language": "python",
   "name": "python3"
  },
  "language_info": {
   "codemirror_mode": {
    "name": "ipython",
    "version": 3
   },
   "file_extension": ".py",
   "mimetype": "text/x-python",
   "name": "python",
   "nbconvert_exporter": "python",
   "pygments_lexer": "ipython3",
   "version": "3.6.5"
  }
 },
 "nbformat": 4,
 "nbformat_minor": 2
}
